{
 "cells": [
  {
   "cell_type": "markdown",
   "metadata": {},
   "source": [
    "# Class 3 Learning Activities"
   ]
  },
  {
   "cell_type": "code",
   "execution_count": 2,
   "metadata": {},
   "outputs": [],
   "source": [
    "%matplotlib inline\n",
    "import matplotlib.pyplot as plt\n",
    "import numpy as np\n",
    "from numpy import sin, cos, tan, pi\n",
    "import robotics\n",
    "from robotics import Rx, Ry, Rz, sind, cosd, DH\n",
    "rtd = 180/pi\n",
    "dtr = pi/180"
   ]
  },
  {
   "cell_type": "markdown",
   "metadata": {},
   "source": [
    "**Note:** In the cell above, `sin`, `cos`, `pi`, ... have been imported from `numpy` so that I don't need to type `np.` before them.\n",
    "\n",
    "Similarly, `Rx`, `Ry`, `Rz` and so on have been imported from `robotics`.\n"
   ]
  },
  {
   "cell_type": "markdown",
   "metadata": {},
   "source": [
    "## Problem 1"
   ]
  },
  {
   "cell_type": "markdown",
   "metadata": {},
   "source": [
    "Find $^BP$, $^AP$, $^BQ$, and $^AQ$ for the sketch below:\n",
    "\n",
    "- use rotation matrices and `robotics.py`\n",
    "- check your signs on all terms conceptually"
   ]
  },
  {
   "cell_type": "markdown",
   "metadata": {},
   "source": [
    "<img src=\"https://drive.google.com/uc?id=1HYirryT6yzGG-rEcySIJvLDr4bbO3Bbq\" width=400px>"
   ]
  },
  {
   "cell_type": "code",
   "execution_count": 6,
   "metadata": {},
   "outputs": [
    {
     "data": {
      "text/plain": [
       "array([4.53153894, 2.11309131, 0.        ])"
      ]
     },
     "execution_count": 6,
     "metadata": {},
     "output_type": "execute_result"
    }
   ],
   "source": [
    "Pb = np.array([5,0,0])\n",
    "Qb = np.array([0,3,0])\n",
    "\n",
    "Rp = robotics.Rz(25)\n",
    "Rq = robotics.Rz(25)\n",
    "\n",
    "Pa = np.dot(Rp,Pb)\n",
    "Qa = np.dot(Rp,Qb)\n",
    "Pa"
   ]
  },
  {
   "cell_type": "code",
   "execution_count": 7,
   "metadata": {},
   "outputs": [
    {
     "data": {
      "text/plain": [
       "array([-1.26785479,  2.71892336,  0.        ])"
      ]
     },
     "execution_count": 7,
     "metadata": {},
     "output_type": "execute_result"
    }
   ],
   "source": [
    "Qa"
   ]
  },
  {
   "cell_type": "markdown",
   "metadata": {},
   "source": [
    "## Problem 2"
   ]
  },
  {
   "cell_type": "markdown",
   "metadata": {},
   "source": [
    "Again, find $^BP$, $^AP$, $^BQ$, and $^AQ$ for the sketch below using rotation matrices and check your signs conceptually."
   ]
  },
  {
   "cell_type": "markdown",
   "metadata": {},
   "source": [
    "<img src=\"https://drive.google.com/uc?id=1GJSgY_-rVS9D22Vq40nbbx3oxNcpKEji\" width=350px>"
   ]
  },
  {
   "cell_type": "code",
   "execution_count": 10,
   "metadata": {},
   "outputs": [
    {
     "data": {
      "text/plain": [
       "array([ 2.59807621, -1.5       ,  0.        ])"
      ]
     },
     "execution_count": 10,
     "metadata": {},
     "output_type": "execute_result"
    }
   ],
   "source": [
    "Pb = np.array([3,0,0])\n",
    "Qb = np.array([0,4,0])\n",
    "\n",
    "Rp = robotics.Rz(-30)\n",
    "Rq = robotics.Rz(-30)\n",
    "\n",
    "Pa = np.dot(Rp,Pb)\n",
    "Qa = np.dot(Rp,Qb)\n",
    "Pa"
   ]
  },
  {
   "cell_type": "code",
   "execution_count": 11,
   "metadata": {},
   "outputs": [
    {
     "data": {
      "text/plain": [
       "array([2.        , 3.46410162, 0.        ])"
      ]
     },
     "execution_count": 11,
     "metadata": {},
     "output_type": "execute_result"
    }
   ],
   "source": [
    "Qa"
   ]
  },
  {
   "cell_type": "markdown",
   "metadata": {},
   "source": [
    "## Problem 3\n",
    "\n"
   ]
  },
  {
   "cell_type": "markdown",
   "metadata": {},
   "source": [
    "Find $^BP$ and $^AP$ using rotation matrices.  Again, check your signs conceptually."
   ]
  },
  {
   "cell_type": "markdown",
   "metadata": {},
   "source": [
    "<img src=\"https://drive.google.com/uc?id=12VTxinAIPzNssAk-u_Y0dgUBxz53Wf1Q\" width=350px>"
   ]
  },
  {
   "cell_type": "code",
   "execution_count": 12,
   "metadata": {},
   "outputs": [
    {
     "data": {
      "text/plain": [
       "array([ 4.46410162, -0.26794919,  0.        ])"
      ]
     },
     "execution_count": 12,
     "metadata": {},
     "output_type": "execute_result"
    }
   ],
   "source": [
    "Pb = np.array([4,2,0])\n",
    "\n",
    "R = robotics.Rz(-30)\n",
    "\n",
    "Pa = np.dot(R,Pb)\n",
    "Pa"
   ]
  },
  {
   "cell_type": "markdown",
   "metadata": {},
   "source": [
    "## Problem 4"
   ]
  },
  {
   "cell_type": "markdown",
   "metadata": {},
   "source": [
    "Derive the rotation matrix for $\\mathbf{R}_x(\\theta)$."
   ]
  },
  {
   "cell_type": "code",
   "execution_count": null,
   "metadata": {},
   "outputs": [],
   "source": [
    "pic below"
   ]
  },
  {
   "cell_type": "markdown",
   "metadata": {},
   "source": [
    "## Problem 5"
   ]
  },
  {
   "cell_type": "markdown",
   "metadata": {},
   "source": [
    "Find $^A_B\\mathbf{R}$ for the sketch below:\n",
    "\n",
    "<img src=\"https://drive.google.com/uc?id=1uVitdtqBUMcPCl0fQ9YJ6wHZcSg9xLHF\" width=450px>"
   ]
  },
  {
   "cell_type": "code",
   "execution_count": null,
   "metadata": {},
   "outputs": [],
   "source": [
    "pic below"
   ]
  },
  {
   "cell_type": "markdown",
   "metadata": {},
   "source": [
    "## Problem 6"
   ]
  },
  {
   "cell_type": "markdown",
   "metadata": {},
   "source": [
    "Find $^A_B\\mathbf{R}$ for the sketch below:\n",
    "- think about how the unit vectors are mapped from frame $B$ to frame $A$\n",
    "\n",
    "<img src=\"https://drive.google.com/uc?id=1RPcKLLgUHwNNguivWta-8QGVDbga1Ov9\" width=350px>"
   ]
  },
  {
   "cell_type": "code",
   "execution_count": null,
   "metadata": {},
   "outputs": [],
   "source": [
    "pic below"
   ]
  },
  {
   "cell_type": "markdown",
   "metadata": {},
   "source": [
    "<img src=\"https://drive.google.com/uc?id=1jzOIQ2wqNu8RSmU8i8pfabdyhismxzhx\" width=450px>"
   ]
  },
  {
   "cell_type": "code",
   "execution_count": null,
   "metadata": {},
   "outputs": [],
   "source": []
  }
 ],
 "metadata": {
  "kernelspec": {
   "display_name": "Python 3",
   "language": "python",
   "name": "python3"
  },
  "language_info": {
   "codemirror_mode": {
    "name": "ipython",
    "version": 3
   },
   "file_extension": ".py",
   "mimetype": "text/x-python",
   "name": "python",
   "nbconvert_exporter": "python",
   "pygments_lexer": "ipython3",
   "version": "3.7.6"
  }
 },
 "nbformat": 4,
 "nbformat_minor": 2
}
