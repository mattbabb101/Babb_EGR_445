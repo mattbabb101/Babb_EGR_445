{
 "cells": [
  {
   "cell_type": "markdown",
   "metadata": {},
   "source": [
    "# Class 10: DH Part 2"
   ]
  },
  {
   "cell_type": "markdown",
   "metadata": {},
   "source": [
    "# Homework 3 Issues"
   ]
  },
  {
   "cell_type": "markdown",
   "metadata": {},
   "source": [
    "## Relative Image Paths vs. BB\n",
    "\n",
    "- Blackboard adds extra stuff to your filenames\n",
    "    - what if everyone uploaded `fig1.jpg`?\n",
    "- So, you cannot use relative image paths with BB\n",
    "- You must learn one of these two skills:\n",
    "    - how to use git\n",
    "        - watch jpg vs JPG and png vs PNG\n",
    "    - how to create image paths to google drive or some other service"
   ]
  },
  {
   "cell_type": "markdown",
   "metadata": {},
   "source": [
    "## Problem 3\n",
    "\n",
    "- should the sketches for 3.1 and 3.2 be the same?\n",
    "    - why or why not?"
   ]
  },
  {
   "cell_type": "markdown",
   "metadata": {},
   "source": [
    "# Selected Questions"
   ]
  },
  {
   "cell_type": "markdown",
   "metadata": {},
   "source": [
    "## Question 1"
   ]
  },
  {
   "cell_type": "markdown",
   "metadata": {},
   "source": [
    "What is a joint axis?\n"
   ]
  },
  {
   "cell_type": "markdown",
   "metadata": {},
   "source": [
    "## Question Feedback 1"
   ]
  },
  {
   "cell_type": "markdown",
   "metadata": {},
   "source": [
    "Good question.  A joint axis refers to the axis of rotation of a revolute joint or the axis of translation for a prismatic joint.  It is essentially the axis related to the motion of the joint."
   ]
  },
  {
   "cell_type": "markdown",
   "metadata": {},
   "source": [
    "## Question 2"
   ]
  },
  {
   "cell_type": "markdown",
   "metadata": {},
   "source": [
    "23:00 - Could we chose to have x3 go in the opposite direction you chose in the video (so it would be down and to the right)?\n"
   ]
  },
  {
   "cell_type": "markdown",
   "metadata": {},
   "source": [
    "## Question Feedback 2"
   ]
  },
  {
   "cell_type": "markdown",
   "metadata": {},
   "source": [
    "Yes, you can pretty much always reverse your $\\hat{X}$ axis and be fine as long as your DH table agrees with your schematic.  I had planned on going up and to the left and had a clean spot on my drawing for that choice...."
   ]
  },
  {
   "cell_type": "markdown",
   "metadata": {},
   "source": [
    "## Question 3"
   ]
  },
  {
   "cell_type": "markdown",
   "metadata": {},
   "source": [
    "When filling out a DH table, should be always start with frame {1} and work up to frame {N} or can we start from frame {N} and work back to frame {1}?\n"
   ]
  },
  {
   "cell_type": "markdown",
   "metadata": {},
   "source": [
    "## Question Feedback 3"
   ]
  },
  {
   "cell_type": "markdown",
   "metadata": {},
   "source": [
    "I don't know.  It doesn't feel right to me to start and the bottom and work up or to start at the tip and work back.  But it probably is not wrong.  My one concern is that we need to be very careful about where the x-axis ends up at the end of every row. You could probably replace this was thinking about where we need the x-axis to start at the beginning of every row when working backwards.  This has honestly never occurred to me and so I just haven't tried it enough to be sure if it works or if there's a problem."
   ]
  },
  {
   "cell_type": "markdown",
   "metadata": {},
   "source": [
    "## Question 4"
   ]
  },
  {
   "cell_type": "markdown",
   "metadata": {},
   "source": [
    "At 9:00, you are discussing “case 1: Parallel Z Axes.” You mention that if to Z axes are parallel, the lower number origin can be located anywhere along the lower number Z axis. You go on to say that the lower number origin is normally placed along the link. Are there circumstances where one would intentionally not place the lower number origin at the link?\n"
   ]
  },
  {
   "cell_type": "markdown",
   "metadata": {},
   "source": [
    "## Question Feedback 4"
   ]
  },
  {
   "cell_type": "markdown",
   "metadata": {},
   "source": [
    "I think we we'll see an example of this with the Puma robot that is discussed in chapter 3.  there area couple of joints in a row that are parallel but are slightly offset from one another. So if you wanted your axes to be on the physical links, you would shift up on one axis and then back down on the other.  Alternatively, you could just skip all of that and have your model go down the middle.  You can see something similar on a top view of the silver box robot.  Because of how the servos are attached, the links are technically offset from one another. Do you want to include this detail in your model or just skip it?\n",
    "\n",
    "**silverbox robot example**\n",
    "\n",
    "- special attention paid to servo offsets"
   ]
  },
  {
   "cell_type": "markdown",
   "metadata": {},
   "source": [
    "## Q4 Response"
   ]
  },
  {
   "cell_type": "markdown",
   "metadata": {},
   "source": [
    "<img src=\"figs/plexiglas_robot_top_view_theta_1_ipe_cropped.jpg\" width=450px>"
   ]
  },
  {
   "cell_type": "markdown",
   "metadata": {},
   "source": [
    "## Question 5"
   ]
  },
  {
   "cell_type": "markdown",
   "metadata": {},
   "source": [
    "Just to clarify. Following your procedure we will not be required to mark the Y-axes?\n"
   ]
  },
  {
   "cell_type": "markdown",
   "metadata": {},
   "source": [
    "## Question Feedback 5"
   ]
  },
  {
   "cell_type": "markdown",
   "metadata": {},
   "source": [
    "Yes, nothing should be happending on the Y axes.  They would typically only clutter our drawings.  The only exception I can think of is the example that we saw in the last class where we got into a weird position of the tip being alone a negative Y axis.  So, one rare occasions, we may need to find a Y axis to locate something along it but I think this will only happen with the last link."
   ]
  },
  {
   "cell_type": "markdown",
   "metadata": {},
   "source": [
    "## Question 6"
   ]
  },
  {
   "cell_type": "markdown",
   "metadata": {},
   "source": [
    "in the example if X3 was changed to be parallel to Z4 what problems would arise in solving the problem? Would this just become an issue using the DH convention or would this always be an issue?\n"
   ]
  },
  {
   "cell_type": "markdown",
   "metadata": {},
   "source": [
    "## Question Feedback 6"
   ]
  },
  {
   "cell_type": "markdown",
   "metadata": {},
   "source": [
    "If $\\hat{X}_3$ is parallel to $\\hat{Z}_4$, how would you rotate from $\\hat{Z}_3$ to $\\hat{Z}_4$?  \n",
    "\n",
    "- **Let's talk about this in class.**"
   ]
  },
  {
   "cell_type": "markdown",
   "metadata": {},
   "source": [
    "## Question 9"
   ]
  },
  {
   "cell_type": "markdown",
   "metadata": {},
   "source": [
    "At 29:12 isn't Ptip_4 [0,0,L] not [L,0,0]? Also, can we always add the length of the last link to the table and use Ptip_i = [0,0,0] or does that only work out in some cases?\n"
   ]
  },
  {
   "cell_type": "markdown",
   "metadata": {},
   "source": [
    "## Question Feedback 9"
   ]
  },
  {
   "cell_type": "markdown",
   "metadata": {},
   "source": [
    "Oops!  Yeah, I screwed that up.  It is definitely [0,0,L].\n",
    "\n",
    "I think you only have the choice about having the final origin at the tip if it is also along $\\hat{Z}_N$ or if you specifically add an extra, unactuated frame for convienence.  If you think about a two link planar robot for example, you cannot have O2 at the tip.\n",
    "\n",
    "- **Note:** Let's talk about the two link planar robot in  class"
   ]
  },
  {
   "cell_type": "markdown",
   "metadata": {},
   "source": [
    "## Question 11"
   ]
  },
  {
   "cell_type": "markdown",
   "metadata": {},
   "source": [
    "It seems logical to start at frame 0 and not 1, why did you not do this in your example?\n"
   ]
  },
  {
   "cell_type": "markdown",
   "metadata": {},
   "source": [
    "## Question Feedback 11"
   ]
  },
  {
   "cell_type": "markdown",
   "metadata": {},
   "source": [
    "That is a fair question.  I tend to start from $\\hat{Z}_1$ and $\\theta_1$.  In my mind, frame 0 is usually the same as frame 1 when $\\theta_1 = 0$ (unless we have an offset like $H$).  Also, you can't define frame 0 however you want; it has to be compatible with frame 1 and the DH procedure.  So, I tend start with frame 1 and back up to frame 0.  We can try doing it differently on some examples and see if it is helpful.\n",
    "\n",
    "- **Question:** is the location and orientation of frame 0 always obvious?\n",
    "    - does it complicate things if we make arbitrary choices for frame 0?"
   ]
  },
  {
   "cell_type": "markdown",
   "metadata": {},
   "source": [
    "## Question 14"
   ]
  },
  {
   "cell_type": "markdown",
   "metadata": {},
   "source": [
    "How would you figure out where the origin is if the shortest perpendicular distance is not directly on a link, would you have to use trig to find where that shortest distance is?\n"
   ]
  },
  {
   "cell_type": "markdown",
   "metadata": {},
   "source": [
    "## Question Feedback 14"
   ]
  },
  {
   "cell_type": "markdown",
   "metadata": {},
   "source": [
    "I think this comes up in one of the examples we didn't get to last time and will discuss tonight.  It also comes up with the Fanuc industrial robots we will discuss soon.  There isn't really much trig involved since it has to be perpendicular to the Z axes.\n",
    "\n",
    "You can actually see this in Fig. 3.15 where the origin is not on the link."
   ]
  },
  {
   "cell_type": "markdown",
   "metadata": {},
   "source": [
    "## Question 15"
   ]
  },
  {
   "cell_type": "markdown",
   "metadata": {},
   "source": [
    "Why do we start from from the lower frame for DH but in HT matrix we started with frame B and projected them to A, but this method does A to B?\n"
   ]
  },
  {
   "cell_type": "markdown",
   "metadata": {},
   "source": [
    "## Question Feedback 15"
   ]
  },
  {
   "cell_type": "markdown",
   "metadata": {},
   "source": [
    "This is an important question.  Even though we map from frame B back to frame A,  we still started with the frames aligned and we rotated from A to B.  Similarly, we are going to map from the higher number frame back to the lower number frame, but we start with assuming the frames are on top of each other and move from the lower number origin to the higher number one."
   ]
  },
  {
   "cell_type": "markdown",
   "metadata": {},
   "source": [
    "## Question 16"
   ]
  },
  {
   "cell_type": "markdown",
   "metadata": {},
   "source": [
    "Does writing frame relations as 'i-1' and 'i' differ from 'i' and 'i+1' in anything other than style?\n"
   ]
  },
  {
   "cell_type": "markdown",
   "metadata": {},
   "source": [
    "## Question Feedback 16"
   ]
  },
  {
   "cell_type": "markdown",
   "metadata": {},
   "source": [
    "We talked about this in our last class.  On some level, it is a style thing.  But if $\\theta_1$ is a rotation about $\\hat{Z}_1$, then a frame 0 is implied.  At that point, $i-1$ makes more sense than $i+1$."
   ]
  }
 ],
 "metadata": {
  "kernelspec": {
   "display_name": "Python 3",
   "language": "python",
   "name": "python3"
  },
  "language_info": {
   "codemirror_mode": {
    "name": "ipython",
    "version": 3
   },
   "file_extension": ".py",
   "mimetype": "text/x-python",
   "name": "python",
   "nbconvert_exporter": "python",
   "pygments_lexer": "ipython3",
   "version": "3.7.6"
  }
 },
 "nbformat": 4,
 "nbformat_minor": 4
}
