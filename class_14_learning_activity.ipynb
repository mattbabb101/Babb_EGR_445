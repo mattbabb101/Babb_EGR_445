{
 "cells": [
  {
   "cell_type": "markdown",
   "metadata": {},
   "source": [
    "# Class 14 Learning Activity"
   ]
  },
  {
   "cell_type": "code",
   "execution_count": 3,
   "metadata": {},
   "outputs": [],
   "source": [
    "%matplotlib inline\n",
    "import matplotlib.pyplot as plt\n",
    "import numpy as np\n",
    "from numpy import sin, cos, tan, pi\n",
    "import robotics\n",
    "from robotics import Rx, Ry, Rz, sind, cosd, DH\n",
    "rtd = 180/pi\n",
    "dtr = pi/180"
   ]
  },
  {
   "cell_type": "markdown",
   "metadata": {},
   "source": [
    "## Problem 1\n",
    "\n",
    "- For the two link robot discussed in the video 15, solve for the elbow down inverse kinematics solution given the following parameters:"
   ]
  },
  {
   "cell_type": "markdown",
   "metadata": {},
   "source": [
    "**Note:** Verify your solution using forward kinematics."
   ]
  },
  {
   "cell_type": "code",
   "execution_count": 6,
   "metadata": {},
   "outputs": [],
   "source": [
    "L1 = 9\n",
    "L2 = 7\n",
    "x_tip = 6\n",
    "y_tip = 9"
   ]
  },
  {
   "cell_type": "code",
   "execution_count": 21,
   "metadata": {},
   "outputs": [
    {
     "data": {
      "text/plain": [
       "(0.283474885016223, 95.92200780587284)"
      ]
     },
     "execution_count": 21,
     "metadata": {},
     "output_type": "execute_result"
    }
   ],
   "source": [
    "r     = np.sqrt(x_tip**2 + y_tip**2) \n",
    "temp  = (L1**2 + L2**2 - r**2)/(2*L1*L2)\n",
    "alpha = np.arccos(temp) * 180/np.pi \n",
    "th2   = 180 - alpha\n",
    "psi   = np.arctan2(L2*sind(th2),L1+L2*cosd(th2))\n",
    "beta  = np.arctan2(y_tip,x_tip)\n",
    "th1   = beta - psi\n",
    "\n",
    "th1, th2"
   ]
  },
  {
   "cell_type": "markdown",
   "metadata": {},
   "source": [
    "## Problem 2\n",
    "\n",
    "- Use the geometric approach to find a symbolic solution for the elbow up position of the two link robot from video 15.\n",
    "- Find the elbow up solution for problem 1 and verify it using forward kinematics."
   ]
  },
  {
   "cell_type": "markdown",
   "metadata": {},
   "source": [
    "<img src=\"https://drive.google.com/uc?id=1CSSW3GOrnTSCm9jCrnLTe8SUnTNK7nzf\" width=450px>"
   ]
  },
  {
   "cell_type": "code",
   "execution_count": 24,
   "metadata": {},
   "outputs": [
    {
     "data": {
      "text/plain": [
       "(1.6821125614784351, -95.92200780587284)"
      ]
     },
     "execution_count": 24,
     "metadata": {},
     "output_type": "execute_result"
    }
   ],
   "source": [
    "r     = np.sqrt(x_tip**2 + y_tip**2) \n",
    "temp  = (L1**2 + L2**2 - r**2)/(2*L1*L2)\n",
    "alpha = np.arccos(temp) * 180/np.pi \n",
    "th2   = alpha - 180\n",
    "psi   = np.arctan2(L2*sind(-th2),L1+L2*cosd(-th2))\n",
    "beta  = np.arctan2(y_tip,x_tip)\n",
    "th1   = beta + psi\n",
    "\n",
    "th1, th2"
   ]
  },
  {
   "cell_type": "markdown",
   "metadata": {},
   "source": [
    "## Problem 3"
   ]
  },
  {
   "cell_type": "markdown",
   "metadata": {},
   "source": [
    "- Use the *algebraic* approach to find symbolic solutions for both the elbow up and elbow down positions for the two link robot from video 15."
   ]
  },
  {
   "cell_type": "markdown",
   "metadata": {},
   "source": [
    "$$\\left[ \\begin{matrix} x_{tip} \\\\ y_{tip}\\end{matrix}\\right] \\; = \\; \\left[ \\begin{matrix} L_1 \\cos(\\theta_1) + L_2 \\cos(\\theta_1 + \\theta_2) \\\\ L_1 \\sin(\\theta_1) + L_2 \\sin(\\theta_1 + \\theta_2) \\end{matrix}\\right]$$"
   ]
  },
  {
   "cell_type": "markdown",
   "metadata": {},
   "source": []
  }
 ],
 "metadata": {
  "kernelspec": {
   "display_name": "Python 3",
   "language": "python",
   "name": "python3"
  },
  "language_info": {
   "codemirror_mode": {
    "name": "ipython",
    "version": 3
   },
   "file_extension": ".py",
   "mimetype": "text/x-python",
   "name": "python",
   "nbconvert_exporter": "python",
   "pygments_lexer": "ipython3",
   "version": "3.7.6"
  }
 },
 "nbformat": 4,
 "nbformat_minor": 4
}
