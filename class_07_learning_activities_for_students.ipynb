{
 "cells": [
  {
   "cell_type": "code",
   "execution_count": 2,
   "metadata": {},
   "outputs": [],
   "source": [
    "%matplotlib inline\n",
    "import matplotlib.pyplot as plt\n",
    "import numpy as np\n",
    "from numpy import sin, cos, tan, pi\n",
    "import robotics\n",
    "from robotics import Rx, Ry, Rz, sind, cosd, DH\n",
    "rtd = 180/pi\n",
    "dtr = pi/180"
   ]
  },
  {
   "cell_type": "markdown",
   "metadata": {},
   "source": [
    "## Problem 1\n",
    "\n",
    "<img src=\"https://drive.google.com/uc?id=19BbGtMN8x1tKJbMF2xsdreq5Rqme3ey9\" width=400px>\n",
    "\n",
    "- find $^A_B\\mathbf{T}$ and $^B_A\\mathbf{T}$\n",
    "\n",
    "\n",
    "- find $^AP$ and $^BQ$"
   ]
  },
  {
   "cell_type": "code",
   "execution_count": 12,
   "metadata": {},
   "outputs": [
    {
     "data": {
      "text/plain": [
       "(array([[ 0.60000143, -0.79999893,  0.        ,  3.        ],\n",
       "        [ 0.79999893,  0.60000143,  0.        ,  4.        ],\n",
       "        [ 0.        ,  0.        ,  1.        ,  0.        ],\n",
       "        [ 0.        ,  0.        ,  0.        ,  1.        ]]),\n",
       " array([[ 6.00001429e-01,  7.99998928e-01,  0.00000000e+00,\n",
       "         -5.00000000e+00],\n",
       "        [-7.99998928e-01,  6.00001429e-01,  0.00000000e+00,\n",
       "         -8.93208512e-06],\n",
       "        [ 0.00000000e+00,  0.00000000e+00,  1.00000000e+00,\n",
       "          0.00000000e+00],\n",
       "        [ 0.00000000e+00,  0.00000000e+00,  0.00000000e+00,\n",
       "          1.00000000e+00]]))"
      ]
     },
     "execution_count": 12,
     "metadata": {},
     "output_type": "execute_result"
    }
   ],
   "source": [
    "R = robotics.Rz(53.13)\n",
    "Rt = np.transpose(R)\n",
    "Vector = ([3,4,0])\n",
    "Vt = np.dot(-Rt,Vector)\n",
    "Zeroes = ([0,0,0,1])\n",
    "R1 = np.column_stack((R,Vector))\n",
    "Tab = np.row_stack((R1,Zeroes))\n",
    "R2 = np.column_stack((Rt,Vt))\n",
    "Tba = np.row_stack((R2,Zeroes))\n",
    "Tab,Tba"
   ]
  },
  {
   "cell_type": "markdown",
   "metadata": {},
   "source": [
    "**Answers:**\n",
    "\n",
    "$$^AP = \\; \\begin{bmatrix} 4.8 \\\\ 6.4 \\\\ 0 \\\\ 1 \\end{bmatrix}$$"
   ]
  },
  {
   "cell_type": "markdown",
   "metadata": {},
   "source": [
    "$$^BQ = \\; \\begin{bmatrix} 0.6 \\\\ -0.8 \\\\ 0 \\\\ 1 \\end{bmatrix}$$"
   ]
  },
  {
   "cell_type": "markdown",
   "metadata": {},
   "source": [
    "## Problem 2\n",
    "\n",
    "$$^A_B\\mathbf{T} = \\; \\begin{bmatrix} -0.1736 & -0.9848 & 0 & -0.8682 \\\\ 0.9848 & -0.1736 & 0 & 4.924 \\\\ 0 & 0 & 1 & 0 \\\\ 0 & 0 & 0 & 1 \\end{bmatrix}$$\n",
    "\n",
    "- sketch the frames $A$ and $B$ in relation to one another"
   ]
  },
  {
   "cell_type": "code",
   "execution_count": null,
   "metadata": {},
   "outputs": [],
   "source": []
  },
  {
   "cell_type": "markdown",
   "metadata": {},
   "source": [
    "## Problem 3\n",
    "\n",
    "If you already have \n",
    "\n",
    "$$^A_B\\mathbf{T} = \\; \\begin{bmatrix} -0.5 & -0.866 & 0 & 3 \\\\ 0 & 0 & 1 & 1 \\\\ -0.866 & 0.5 & 0 & 0 \\\\ 0 & 0 & 0 & 1 \\end{bmatrix}$$\n",
    "\n",
    "- use Python to find $^B_A\\mathbf{R}$ and $^BP_{AORG}$"
   ]
  },
  {
   "cell_type": "code",
   "execution_count": 16,
   "metadata": {},
   "outputs": [],
   "source": [
    "T_AB3 = np.array([[-0.5      , -0.8660254,  0.       ,  3.       ],\n",
    "                 [ 0.       ,  0.       ,  1.       ,  1.       ],\n",
    "                 [-0.8660254,  0.5      ,  0.       ,  0.       ],\n",
    "                 [ 0.       ,  0.       ,  0.       ,  1.       ]])"
   ]
  },
  {
   "cell_type": "code",
   "execution_count": 17,
   "metadata": {
    "scrolled": true
   },
   "outputs": [
    {
     "data": {
      "text/plain": [
       "array([[-0.5      , -0.8660254,  0.       ,  3.       ],\n",
       "       [ 0.       ,  0.       ,  1.       ,  1.       ],\n",
       "       [-0.8660254,  0.5      ,  0.       ,  0.       ],\n",
       "       [ 0.       ,  0.       ,  0.       ,  1.       ]])"
      ]
     },
     "execution_count": 17,
     "metadata": {},
     "output_type": "execute_result"
    }
   ],
   "source": [
    "T_AB3"
   ]
  },
  {
   "cell_type": "code",
   "execution_count": 24,
   "metadata": {},
   "outputs": [
    {
     "data": {
      "text/plain": [
       "(array([[-0.5      ,  0.       , -0.8660254],\n",
       "        [-0.8660254,  0.       ,  0.5      ],\n",
       "        [ 0.       ,  1.       ,  0.       ]]),\n",
       " array([ 1.5      ,  2.5980762, -1.       ]))"
      ]
     },
     "execution_count": 24,
     "metadata": {},
     "output_type": "execute_result"
    }
   ],
   "source": [
    "Rab = T_AB3[0:3,0:3]\n",
    "Rba = Rab.T\n",
    "aPborg = T_AB3[0:3,3]\n",
    "bPaorg = np.dot(-Rab.T,aPborg)\n",
    "Rba, bPaorg"
   ]
  },
  {
   "cell_type": "markdown",
   "metadata": {},
   "source": [
    "## Problem 4\n",
    "\n",
    "- Based on what you learned in Problem 3, write a Python function that takes $^A_B\\mathbf{T}$ as its input and returns $^B_A\\mathbf{T}$ as its output\n",
    "- write some tests to verify your function is correct"
   ]
  },
  {
   "cell_type": "code",
   "execution_count": 31,
   "metadata": {
    "scrolled": true
   },
   "outputs": [
    {
     "ename": "TypeError",
     "evalue": "dot() missing 1 required positional argument: 'b'",
     "output_type": "error",
     "traceback": [
      "\u001b[1;31m---------------------------------------------------------------------------\u001b[0m",
      "\u001b[1;31mTypeError\u001b[0m                                 Traceback (most recent call last)",
      "\u001b[1;32m<ipython-input-31-c07dd977baa2>\u001b[0m in \u001b[0;36m<module>\u001b[1;34m\u001b[0m\n\u001b[0;32m      7\u001b[0m \u001b[0mZ\u001b[0m \u001b[1;33m=\u001b[0m \u001b[0mnp\u001b[0m\u001b[1;33m.\u001b[0m\u001b[0marray\u001b[0m\u001b[1;33m(\u001b[0m\u001b[1;33m[\u001b[0m\u001b[1;36m0\u001b[0m\u001b[1;33m,\u001b[0m\u001b[1;36m0\u001b[0m\u001b[1;33m,\u001b[0m\u001b[1;36m0\u001b[0m\u001b[1;33m,\u001b[0m\u001b[1;36m1\u001b[0m\u001b[1;33m]\u001b[0m\u001b[1;33m)\u001b[0m\u001b[1;33m\u001b[0m\u001b[1;33m\u001b[0m\u001b[0m\n\u001b[0;32m      8\u001b[0m \u001b[0maPborg\u001b[0m \u001b[1;33m=\u001b[0m \u001b[0mT_AB3\u001b[0m\u001b[1;33m[\u001b[0m\u001b[1;36m0\u001b[0m\u001b[1;33m:\u001b[0m\u001b[1;36m3\u001b[0m\u001b[1;33m,\u001b[0m\u001b[1;36m3\u001b[0m\u001b[1;33m]\u001b[0m\u001b[1;33m\u001b[0m\u001b[1;33m\u001b[0m\u001b[0m\n\u001b[1;32m----> 9\u001b[1;33m \u001b[0mbPaorg\u001b[0m \u001b[1;33m=\u001b[0m \u001b[1;33m-\u001b[0m\u001b[0mnp\u001b[0m\u001b[1;33m.\u001b[0m\u001b[0mdot\u001b[0m\u001b[1;33m(\u001b[0m\u001b[1;33m(\u001b[0m\u001b[0mRba\u001b[0m\u001b[1;33m,\u001b[0m\u001b[0maPborg\u001b[0m\u001b[1;33m)\u001b[0m\u001b[1;33m)\u001b[0m\u001b[1;33m\u001b[0m\u001b[1;33m\u001b[0m\u001b[0m\n\u001b[0m\u001b[0;32m     10\u001b[0m \u001b[0mTba_temp\u001b[0m \u001b[1;33m=\u001b[0m \u001b[0mnp\u001b[0m\u001b[1;33m.\u001b[0m\u001b[0mcolumn_stack\u001b[0m\u001b[1;33m(\u001b[0m\u001b[1;33m[\u001b[0m\u001b[0mRba\u001b[0m\u001b[1;33m,\u001b[0m\u001b[0mbPaorg\u001b[0m\u001b[1;33m]\u001b[0m\u001b[1;33m)\u001b[0m\u001b[1;33m\u001b[0m\u001b[1;33m\u001b[0m\u001b[0m\n\u001b[0;32m     11\u001b[0m \u001b[0mTba\u001b[0m \u001b[1;33m=\u001b[0m \u001b[0mnp\u001b[0m\u001b[1;33m.\u001b[0m\u001b[0mrow_stack\u001b[0m\u001b[1;33m(\u001b[0m\u001b[1;33m(\u001b[0m\u001b[0mTba_temp\u001b[0m\u001b[1;33m,\u001b[0m\u001b[0mZ\u001b[0m\u001b[1;33m)\u001b[0m\u001b[1;33m)\u001b[0m\u001b[1;33m\u001b[0m\u001b[1;33m\u001b[0m\u001b[0m\n",
      "\u001b[1;32m<__array_function__ internals>\u001b[0m in \u001b[0;36mdot\u001b[1;34m(*args, **kwargs)\u001b[0m\n",
      "\u001b[1;31mTypeError\u001b[0m: dot() missing 1 required positional argument: 'b'"
     ]
    }
   ],
   "source": [
    "Tab = np.array([[-0.5      , -0.8660254,  0.       ,  3.       ],\n",
    "                 [ 0.       ,  0.       ,  1.       ,  1.       ],\n",
    "                 [-0.8660254,  0.5      ,  0.       ,  0.       ],\n",
    "                 [ 0.       ,  0.       ,  0.       ,  1.       ]])\n",
    "Rab = T_AB3[0:3,0:3]\n",
    "Rba = Rab.T\n",
    "Z = np.array([0,0,0,1])\n",
    "aPborg = T_AB3[0:3,3]\n",
    "bPaorg = -np.dot((Rba,aPborg))\n",
    "Tba_temp = np.column_stack([Rba,bPaorg])\n",
    "Tba = np.row_stack((Tba_temp,Z))\n",
    "Tba"
   ]
  },
  {
   "cell_type": "code",
   "execution_count": 33,
   "metadata": {},
   "outputs": [],
   "source": [
    "def myHTinv(TAB):\n",
    "    RAB = TAB[0:3,0:3]\n",
    "    PBorgA = TAB[0:1,-1]\n",
    "    RBA = RAB.T\n",
    "    PAorgB = -np.dot(RBA,PBorgA)\n",
    "    Temp = np.column_stack([RBA,PAorgB])\n",
    "    TBA = np.row_stack([Temp,[0,0,0,1]])\n",
    "    return TBA"
   ]
  },
  {
   "cell_type": "markdown",
   "metadata": {},
   "source": [
    "## Problem 5\n",
    "\n",
    "<img src=\"https://drive.google.com/uc?id=19xH9I-vpIYiuvmFIPba6kt3e3DjRnkg6\" width=400px>\n",
    "\n",
    "- Find $P$, $Q$, and $R$ in both frames using HT matrices"
   ]
  },
  {
   "cell_type": "code",
   "execution_count": null,
   "metadata": {},
   "outputs": [],
   "source": [
    "Tabp = \n",
    "Tabr = \n",
    "Tabq = "
   ]
  },
  {
   "cell_type": "markdown",
   "metadata": {},
   "source": [
    "## Problem 6\n",
    "\n",
    "<img src=\"https://drive.google.com/uc?id=1AweBUM8JRP5173hlZeym2l6pvxPKjSch\" width=400px>\n",
    "\n",
    "- Find $P$ and $Q$ in both frames using HT matrices"
   ]
  },
  {
   "cell_type": "code",
   "execution_count": null,
   "metadata": {},
   "outputs": [],
   "source": []
  }
 ],
 "metadata": {
  "kernelspec": {
   "display_name": "Python 3",
   "language": "python",
   "name": "python3"
  },
  "language_info": {
   "codemirror_mode": {
    "name": "ipython",
    "version": 3
   },
   "file_extension": ".py",
   "mimetype": "text/x-python",
   "name": "python",
   "nbconvert_exporter": "python",
   "pygments_lexer": "ipython3",
   "version": "3.7.6"
  }
 },
 "nbformat": 4,
 "nbformat_minor": 4
}
