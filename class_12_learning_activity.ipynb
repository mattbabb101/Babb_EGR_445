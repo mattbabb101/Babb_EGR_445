{
 "cells": [
  {
   "cell_type": "markdown",
   "metadata": {},
   "source": [
    "# Class 12 Learning Activity"
   ]
  },
  {
   "cell_type": "markdown",
   "metadata": {},
   "source": [
    "## Problem 1\n",
    "\n",
    "Derive Eqn. 3.6 using `sympy`:"
   ]
  },
  {
   "cell_type": "code",
   "execution_count": 4,
   "metadata": {},
   "outputs": [
    {
     "ename": "ModuleNotFoundError",
     "evalue": "No module named 'robotics_sympy'",
     "output_type": "error",
     "traceback": [
      "\u001b[1;31m---------------------------------------------------------------------------\u001b[0m",
      "\u001b[1;31mModuleNotFoundError\u001b[0m                       Traceback (most recent call last)",
      "\u001b[1;32m<ipython-input-4-ee06ffe4838b>\u001b[0m in \u001b[0;36m<module>\u001b[1;34m\u001b[0m\n\u001b[0;32m      2\u001b[0m \u001b[1;32mfrom\u001b[0m \u001b[0msympy\u001b[0m\u001b[1;33m.\u001b[0m\u001b[0minteractive\u001b[0m \u001b[1;32mimport\u001b[0m \u001b[0mprinting\u001b[0m\u001b[1;33m\u001b[0m\u001b[1;33m\u001b[0m\u001b[0m\n\u001b[0;32m      3\u001b[0m \u001b[0mprinting\u001b[0m\u001b[1;33m.\u001b[0m\u001b[0minit_printing\u001b[0m\u001b[1;33m(\u001b[0m\u001b[0muse_latex\u001b[0m\u001b[1;33m=\u001b[0m\u001b[1;32mTrue\u001b[0m\u001b[1;33m)\u001b[0m\u001b[1;33m\u001b[0m\u001b[1;33m\u001b[0m\u001b[0m\n\u001b[1;32m----> 4\u001b[1;33m \u001b[1;32mimport\u001b[0m \u001b[0mrobotics_sympy\u001b[0m\u001b[1;33m\u001b[0m\u001b[1;33m\u001b[0m\u001b[0m\n\u001b[0m",
      "\u001b[1;31mModuleNotFoundError\u001b[0m: No module named 'robotics_sympy'"
     ]
    }
   ],
   "source": [
    "import sympy\n",
    "from sympy.interactive import printing\n",
    "printing.init_printing(use_latex=True)\n",
    "import robotics_sympy"
   ]
  },
  {
   "cell_type": "code",
   "execution_count": null,
   "metadata": {},
   "outputs": [],
   "source": [
    "alpha, a, th, d = sympy.symbols(['alpha','a','theta','d'])"
   ]
  },
  {
   "cell_type": "code",
   "execution_count": 2,
   "metadata": {},
   "outputs": [
    {
     "ename": "NameError",
     "evalue": "name 'robotics_sympy' is not defined",
     "output_type": "error",
     "traceback": [
      "\u001b[1;31m---------------------------------------------------------------------------\u001b[0m",
      "\u001b[1;31mNameError\u001b[0m                                 Traceback (most recent call last)",
      "\u001b[1;32m<ipython-input-2-59199e85524d>\u001b[0m in \u001b[0;36m<module>\u001b[1;34m\u001b[0m\n\u001b[1;32m----> 1\u001b[1;33m \u001b[0mpart1\u001b[0m \u001b[1;33m=\u001b[0m \u001b[0mrobotics_sympy\u001b[0m\u001b[1;33m.\u001b[0m\u001b[0mHTx\u001b[0m\u001b[1;33m(\u001b[0m\u001b[0malpha\u001b[0m\u001b[1;33m,\u001b[0m\u001b[0ma\u001b[0m\u001b[1;33m)\u001b[0m\u001b[1;33m\u001b[0m\u001b[1;33m\u001b[0m\u001b[0m\n\u001b[0m\u001b[0;32m      2\u001b[0m \u001b[0mpart2\u001b[0m \u001b[1;33m=\u001b[0m \u001b[0mrobotics_sympy\u001b[0m\u001b[1;33m.\u001b[0m\u001b[0mHTz\u001b[0m\u001b[1;33m(\u001b[0m\u001b[0mtheta\u001b[0m\u001b[1;33m,\u001b[0m\u001b[0md\u001b[0m\u001b[1;33m)\u001b[0m\u001b[1;33m\u001b[0m\u001b[1;33m\u001b[0m\u001b[0m\n",
      "\u001b[1;31mNameError\u001b[0m: name 'robotics_sympy' is not defined"
     ]
    }
   ],
   "source": [
    "part1 = robotics_sympy.HTx(alpha,a)\n",
    "part2 = robotics_sympy.HTz(theta,d)"
   ]
  },
  {
   "cell_type": "markdown",
   "metadata": {},
   "source": [
    "## Problem 2\n",
    "\n",
    "Write a cleaner version of the function `robotics_sympy.DH` using the product of two DH matrices based on `robotics_sympy.HTx` and `robotics_sympy.HTz`."
   ]
  },
  {
   "cell_type": "code",
   "execution_count": null,
   "metadata": {},
   "outputs": [],
   "source": []
  },
  {
   "cell_type": "markdown",
   "metadata": {},
   "source": [
    "## Problem 3\n",
    "\n",
    "Draw schematic and develop DH tables for the white and fellow Fanuc robots based on these two YouTube videos:\n",
    "\n",
    "- [https://youtu.be/fDF1zp45jmE](https://youtu.be/fDF1zp45jmE)\n",
    "- [https://youtu.be/NFGGdfnUzbY](https://youtu.be/NFGGdfnUzbY)\n",
    "\n",
    "and the pictures in this folder:\n",
    "\n",
    "[https://drive.google.com/drive/folders/1SNn3vmSXf46abdwtxX3bposkAV2LfATH?usp=sharing](https://drive.google.com/drive/folders/1SNn3vmSXf46abdwtxX3bposkAV2LfATH?usp=sharing)"
   ]
  },
  {
   "cell_type": "code",
   "execution_count": null,
   "metadata": {},
   "outputs": [],
   "source": []
  }
 ],
 "metadata": {
  "kernelspec": {
   "display_name": "Python 3",
   "language": "python",
   "name": "python3"
  },
  "language_info": {
   "codemirror_mode": {
    "name": "ipython",
    "version": 3
   },
   "file_extension": ".py",
   "mimetype": "text/x-python",
   "name": "python",
   "nbconvert_exporter": "python",
   "pygments_lexer": "ipython3",
   "version": "3.7.6"
  }
 },
 "nbformat": 4,
 "nbformat_minor": 4
}
