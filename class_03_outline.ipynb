{
 "cells": [
  {
   "cell_type": "markdown",
   "metadata": {},
   "source": [
    "# Class 3: Derivations for R_z, R_y, and R_x"
   ]
  },
  {
   "cell_type": "markdown",
   "metadata": {},
   "source": [
    "## Sign convention note\n",
    "\n",
    "- the sign on $\\theta_2$ assumes that frames 1 and 2 are initially aligned\n",
    "    - we rotate from $\\hat{X}_1$ to $\\hat{X}_2$\n",
    "- but the rotation matrix $^1_2\\mathbf{R}$ converts a vector from frame 2 back to frame 1\n",
    "- these two points probably seem like they are opposites"
   ]
  },
  {
   "cell_type": "markdown",
   "metadata": {},
   "source": [
    "## Spreadsheet Upgrade\n",
    "\n",
    "- please let me know if my google drive organization needs tweaking"
   ]
  },
  {
   "cell_type": "markdown",
   "metadata": {},
   "source": [
    "## A Word about Git"
   ]
  },
  {
   "cell_type": "markdown",
   "metadata": {},
   "source": [
    "## WSQ Markdown Issue\n",
    "\n",
    "- when using dashes as bullet points, always put a space *after* the dash:"
   ]
  },
  {
   "cell_type": "markdown",
   "metadata": {},
   "source": [
    "**without spaces after dashes:**"
   ]
  },
  {
   "cell_type": "markdown",
   "metadata": {},
   "source": [
    "-Know how to derive a rotation matrix:\n",
    "-Understand matrix multiplication and break matrix into components\n",
    "-Apply dot product to solve for matrix components\n",
    "-Repeat for each direction\n",
    "-Should receive consistently formatted matrix with specific signs for sines\n"
   ]
  },
  {
   "cell_type": "markdown",
   "metadata": {},
   "source": [
    "**with spaces after dashes:**"
   ]
  },
  {
   "cell_type": "markdown",
   "metadata": {},
   "source": [
    "- Know how to derive a rotation matrix:\n",
    "- Understand matrix multiplication and break matrix into components\n",
    "- Apply dot product to solve for matrix components\n",
    "- Repeat for each direction\n",
    "- Should receive consistently formatted matrix with specific signs for sines\n"
   ]
  },
  {
   "cell_type": "markdown",
   "metadata": {},
   "source": []
  },
  {
   "cell_type": "markdown",
   "metadata": {},
   "source": [
    "## Responses to WSQ and Video 2 Follow-Up\n",
    "\n",
    "- **Break out groups:** summary of the $\\mathbf{R}_z$ derivation:\n",
    "    - what are the primary steps in the derivation?\n",
    "    - what equations are used in the derivation?\n",
    "    - what is the significance of the \"key sketch\"?\n",
    "        - how does it help us with the derivation?\n",
    "- my response to other questions\n",
    "    "
   ]
  },
  {
   "cell_type": "markdown",
   "metadata": {},
   "source": [
    "## Learning Activities"
   ]
  },
  {
   "cell_type": "code",
   "execution_count": null,
   "metadata": {},
   "outputs": [],
   "source": []
  }
 ],
 "metadata": {
  "kernelspec": {
   "display_name": "Python 3",
   "language": "python",
   "name": "python3"
  },
  "language_info": {
   "codemirror_mode": {
    "name": "ipython",
    "version": 3
   },
   "file_extension": ".py",
   "mimetype": "text/x-python",
   "name": "python",
   "nbconvert_exporter": "python",
   "pygments_lexer": "ipython3",
   "version": "3.7.6"
  }
 },
 "nbformat": 4,
 "nbformat_minor": 2
}
