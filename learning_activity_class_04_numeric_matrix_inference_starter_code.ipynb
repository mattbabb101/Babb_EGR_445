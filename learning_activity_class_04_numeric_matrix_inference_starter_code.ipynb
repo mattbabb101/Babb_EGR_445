{
 "cells": [
  {
   "cell_type": "markdown",
   "metadata": {},
   "source": [
    "\n",
    "# Learning Activity: Dot Products Part 2 and Inferring Properties of Rotation Matrices"
   ]
  },
  {
   "cell_type": "code",
   "execution_count": 3,
   "metadata": {},
   "outputs": [],
   "source": [
    "%matplotlib inline\n",
    "import matplotlib.pyplot as plt\n",
    "import numpy as np\n",
    "from numpy import sin, cos, tan, pi\n",
    "import robotics\n",
    "from robotics import Rz, Ry, Rz, sind, cosd, DH\n",
    "rtd = 180/pi\n",
    "dtr = pi/180"
   ]
  },
  {
   "cell_type": "markdown",
   "metadata": {},
   "source": [
    "## Dot Products Part 2:"
   ]
  },
  {
   "cell_type": "markdown",
   "metadata": {},
   "source": [
    "### Problem DP 1:"
   ]
  },
  {
   "cell_type": "markdown",
   "metadata": {},
   "source": [
    "Given the rotation matrix\n",
    "\n",
    "$$^A_B\\mathbf{R} = \\; \\begin{bmatrix} 0 & 0 & 1 \\\\ 1 & 0 & 0 \\\\ 0 & 1 & 0 \\end{bmatrix}$$\n",
    "\n",
    "sketch the frames $A$ and $B$ in relation to one another."
   ]
  },
  {
   "cell_type": "code",
   "execution_count": null,
   "metadata": {},
   "outputs": [],
   "source": []
  },
  {
   "cell_type": "markdown",
   "metadata": {},
   "source": [
    "### Problem DP 2:"
   ]
  },
  {
   "cell_type": "markdown",
   "metadata": {},
   "source": [
    "Given the rotation matrix\n",
    "\n",
    "$$^A_B\\mathbf{R} = \\; \\begin{bmatrix} 0 & 0 & 1 \\\\ -1 & 0 & 0 \\\\ 0 & -1 & 0 \\end{bmatrix}$$\n",
    "\n",
    "sketch the frames $A$ and $B$ in relation to one another."
   ]
  },
  {
   "cell_type": "markdown",
   "metadata": {},
   "source": [
    "## Numeric Investigations into Rotation Matrices:"
   ]
  },
  {
   "cell_type": "markdown",
   "metadata": {},
   "source": [
    "## What do we mean by the inverse of a matrix?"
   ]
  },
  {
   "cell_type": "markdown",
   "metadata": {},
   "source": [
    "The inverse of a matrix is a matrix, when multiplied by the original matrix, reults in an identity matrix"
   ]
  },
  {
   "cell_type": "markdown",
   "metadata": {},
   "source": [
    "## What are matrix inverses used for?"
   ]
  },
  {
   "cell_type": "markdown",
   "metadata": {},
   "source": [
    "Matrix inverses are used to divide as ther is no way to divide with matrices"
   ]
  },
  {
   "cell_type": "markdown",
   "metadata": {},
   "source": [
    "## How do I find a matrix inverse numerically using `numpy`?"
   ]
  },
  {
   "cell_type": "markdown",
   "metadata": {},
   "source": [
    "np.linalg.inv(matrix)"
   ]
  },
  {
   "cell_type": "markdown",
   "metadata": {},
   "source": [
    "## How do I verify that I have found the inverse of a matrix?\n",
    "\n",
    "- what does it mean to say one matrix is the inverse of another?"
   ]
  },
  {
   "cell_type": "markdown",
   "metadata": {},
   "source": [
    "multiplying together will give identity matrix"
   ]
  },
  {
   "cell_type": "markdown",
   "metadata": {},
   "source": [
    "## Do all matrices have inverses?\n",
    "\n",
    "- how can I tell if a matrix is invertible or not?"
   ]
  },
  {
   "cell_type": "markdown",
   "metadata": {},
   "source": [
    "if determinant is 0, matrix has an inverse"
   ]
  },
  {
   "cell_type": "markdown",
   "metadata": {},
   "source": [
    "## Claim 1:\n",
    "\n",
    "$$^B_A\\mathbf{R}(\\theta) = \\; ^A_B\\mathbf{R}(-\\theta)$$\n",
    "\n",
    "for rotation about a single axes.\n",
    "\n",
    "- How can we numerically verify this?"
   ]
  },
  {
   "cell_type": "markdown",
   "metadata": {},
   "source": [
    "## Claim 2:\n",
    "\n",
    "$$^B_A\\mathbf{R}(\\theta) = \\; ^A_B\\mathbf{R}(\\theta)^{-1}$$\n",
    "\n",
    "for any rotation matrix.\n",
    "\n",
    "- What are we saying mathematically?\n",
    "- How can we numerically verify this?"
   ]
  },
  {
   "cell_type": "markdown",
   "metadata": {},
   "source": [
    "## Claim 3:\n",
    "\n",
    "$$^B_A\\mathbf{R}(\\theta) = \\; ^A_B\\mathbf{R}(\\theta)^{-1} = \\; ^A_B\\mathbf{R}(\\theta)^{T}$$\n",
    "\n",
    "for any rotation matrix.\n",
    "\n",
    "- How can we numerically verify this?\n",
    "- Can we say anything about this mathematically or symbolically for certain cases?\n",
    "- Do dot products help us here?\n",
    "    - If the columns are unit vectors, how does that help us?"
   ]
  },
  {
   "cell_type": "markdown",
   "metadata": {},
   "source": [
    "# Numeric Examples\n",
    "\n",
    "- use `robotics.py` to transform vectors between frames A and B using $^A_B\\mathbf{R}$ or \n",
    "$^B_A\\mathbf{R}$ as appropriate"
   ]
  },
  {
   "cell_type": "markdown",
   "metadata": {},
   "source": [
    "<img src=http://www4.gvsu.edu/KRAUSSRY/445_lectures/lecture_04/Rba_active_learning_trimmed.png width=\"500\">"
   ]
  },
  {
   "cell_type": "markdown",
   "metadata": {},
   "source": [
    "## Problem Statement\n",
    "\n",
    "- For the axis shown above, use `robotics.py` to find $^A_B\\mathbf{R}$ and $^B_A\\mathbf{R}$.\n",
    "- Then calculate $^A\\mathbf{P}$, $^B\\mathbf{Q}$, $^A\\mathbf{M}$, and $^B\\mathbf{N}$.\n",
    "- Compare two different approaches to finding $^B_A\\mathbf{R}$\n",
    "    1. using $R_z(-\\theta)$\n",
    "    2. $^B_A\\mathbf{R} \\; = \\; ^A_B\\mathbf{R}^T$\n",
    "- verify that $^B_A\\mathbf{R} \\; = \\; ^A_B\\mathbf{R}^{-1}$\n",
    "    - also try $R_x$ and $R_y$ and verify that the transpose of a rotation matrix is also the inverse"
   ]
  },
  {
   "cell_type": "markdown",
   "metadata": {},
   "source": []
  },
  {
   "cell_type": "code",
   "execution_count": 49,
   "metadata": {},
   "outputs": [],
   "source": [
    "Na = np.array([0,6,0])\n",
    "Qa = np.array([4,0,0])\n",
    "Mb = np.array([0,3,0])\n",
    "Pb = np.array([5,0,0])\n",
    "th = 22"
   ]
  },
  {
   "cell_type": "markdown",
   "metadata": {},
   "source": [
    "### Option 1"
   ]
  },
  {
   "cell_type": "code",
   "execution_count": 67,
   "metadata": {},
   "outputs": [
    {
     "data": {
      "text/plain": [
       "(array([[ 0.92718385, -0.37460659,  0.        ],\n",
       "        [ 0.37460659,  0.92718385,  0.        ],\n",
       "        [ 0.        ,  0.        ,  1.        ]]),\n",
       " array([[ 0.92718385,  0.37460659,  0.        ],\n",
       "        [-0.37460659,  0.92718385,  0.        ],\n",
       "        [ 0.        ,  0.        ,  1.        ]]))"
      ]
     },
     "execution_count": 67,
     "metadata": {},
     "output_type": "execute_result"
    }
   ],
   "source": [
    "Rab = robotics.Rz(th)\n",
    "Rba = robotics.Rz(-th)\n",
    "Rab,Rba"
   ]
  },
  {
   "cell_type": "code",
   "execution_count": 57,
   "metadata": {},
   "outputs": [
    {
     "data": {
      "text/plain": [
       "(array([2.24763956, 5.56310313, 0.        ]),\n",
       " array([ 3.70873542, -1.49842637,  0.        ]),\n",
       " array([-1.12381978,  2.78155156,  0.        ]),\n",
       " array([4.63591927, 1.87303297, 0.        ]))"
      ]
     },
     "execution_count": 57,
     "metadata": {},
     "output_type": "execute_result"
    }
   ],
   "source": [
    "Nb = np.dot(Rba,Na)\n",
    "Qb = np.dot(Rba,Qa)\n",
    "Ma = np.dot(Rab,Mb)\n",
    "Pa = np.dot(Rab,Pb)\n",
    "Nb, Qb, Ma, Pa"
   ]
  },
  {
   "cell_type": "markdown",
   "metadata": {},
   "source": [
    "### Option 2"
   ]
  },
  {
   "cell_type": "code",
   "execution_count": 69,
   "metadata": {},
   "outputs": [
    {
     "data": {
      "text/plain": [
       "(array([[ 0.92718385, -0.37460659,  0.        ],\n",
       "        [ 0.37460659,  0.92718385,  0.        ],\n",
       "        [ 0.        ,  0.        ,  1.        ]]),\n",
       " array([[ 0.92718385,  0.37460659,  0.        ],\n",
       "        [-0.37460659,  0.92718385,  0.        ],\n",
       "        [ 0.        ,  0.        ,  1.        ]]))"
      ]
     },
     "execution_count": 69,
     "metadata": {},
     "output_type": "execute_result"
    }
   ],
   "source": [
    "Rab = robotics.Rz(th)\n",
    "Rba = np.transpose(Rab)\n",
    "Rab,Rba"
   ]
  },
  {
   "cell_type": "code",
   "execution_count": 70,
   "metadata": {},
   "outputs": [
    {
     "data": {
      "text/plain": [
       "(array([-2.24763956,  5.56310313,  0.        ]),\n",
       " array([ 3.70873542, -1.49842637,  0.        ]),\n",
       " array([-1.12381978,  2.78155156,  0.        ]),\n",
       " array([4.63591927, 1.87303297, 0.        ]))"
      ]
     },
     "execution_count": 70,
     "metadata": {},
     "output_type": "execute_result"
    }
   ],
   "source": [
    "Nb = np.dot(Rba,Na)\n",
    "Qb = np.dot(Rba,Qa)\n",
    "Ma = np.dot(Rab,Mb)\n",
    "Pa = np.dot(Rab,Pb)\n",
    "Yb, Qb, Ma, Pa"
   ]
  },
  {
   "cell_type": "markdown",
   "metadata": {},
   "source": [
    "### Option 3"
   ]
  },
  {
   "cell_type": "code",
   "execution_count": 63,
   "metadata": {},
   "outputs": [],
   "source": [
    "Rab = robotics.Rz(th)\n",
    "Rba = np.linalg.inv(Rab)"
   ]
  },
  {
   "cell_type": "code",
   "execution_count": 64,
   "metadata": {},
   "outputs": [
    {
     "data": {
      "text/plain": [
       "(array([-2.24763956,  5.56310313,  0.        ]),\n",
       " array([ 3.70873542, -1.49842637,  0.        ]),\n",
       " array([-1.12381978,  2.78155156,  0.        ]),\n",
       " array([4.63591927, 1.87303297, 0.        ]))"
      ]
     },
     "execution_count": 64,
     "metadata": {},
     "output_type": "execute_result"
    }
   ],
   "source": [
    "Nb = np.dot(Rba,Na)\n",
    "Qb = np.dot(Rba,Qa)\n",
    "Ma = np.dot(Rab,Mb)\n",
    "Pa = np.dot(Rab,Pb)\n",
    "Yb, Qb, Ma, Pa"
   ]
  },
  {
   "cell_type": "code",
   "execution_count": null,
   "metadata": {},
   "outputs": [],
   "source": []
  }
 ],
 "metadata": {
  "kernelspec": {
   "display_name": "Python 3",
   "language": "python",
   "name": "python3"
  },
  "language_info": {
   "codemirror_mode": {
    "name": "ipython",
    "version": 3
   },
   "file_extension": ".py",
   "mimetype": "text/x-python",
   "name": "python",
   "nbconvert_exporter": "python",
   "pygments_lexer": "ipython3",
   "version": "3.7.6"
  }
 },
 "nbformat": 4,
 "nbformat_minor": 2
}
