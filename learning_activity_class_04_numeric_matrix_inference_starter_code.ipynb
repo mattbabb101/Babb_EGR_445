{
 "cells": [
  {
   "cell_type": "markdown",
   "metadata": {},
   "source": [
    "\n",
    "# Learning Activity: Dot Products Part 2 and Inferring Properties of Rotation Matrices"
   ]
  },
  {
   "cell_type": "code",
   "execution_count": 1,
   "metadata": {},
   "outputs": [],
   "source": [
    "%matplotlib inline\n",
    "import matplotlib.pyplot as plt\n",
    "import numpy as np\n",
    "from numpy import sin, cos, tan, pi\n",
    "import robotics\n",
    "from robotics import Rz, Ry, Rz, sind, cosd, DH\n",
    "rtd = 180/pi\n",
    "dtr = pi/180"
   ]
  },
  {
   "cell_type": "markdown",
   "metadata": {},
   "source": [
    "## Dot Products Part 2:"
   ]
  },
  {
   "cell_type": "markdown",
   "metadata": {},
   "source": [
    "### Problem DP 1:"
   ]
  },
  {
   "cell_type": "markdown",
   "metadata": {},
   "source": [
    "Given the rotation matrix\n",
    "\n",
    "$$^A_B\\mathbf{R} = \\; \\begin{bmatrix} 0 & 0 & 1 \\\\ 1 & 0 & 0 \\\\ 0 & 1 & 0 \\end{bmatrix}$$\n",
    "\n",
    "sketch the frames $A$ and $B$ in relation to one another."
   ]
  },
  {
   "cell_type": "markdown",
   "metadata": {},
   "source": [
    "### Problem DP 2:"
   ]
  },
  {
   "cell_type": "markdown",
   "metadata": {},
   "source": [
    "Given the rotation matrix\n",
    "\n",
    "$$^A_B\\mathbf{R} = \\; \\begin{bmatrix} 0 & 0 & 1 \\\\ -1 & 0 & 0 \\\\ 0 & -1 & 0 \\end{bmatrix}$$\n",
    "\n",
    "sketch the frames $A$ and $B$ in relation to one another."
   ]
  },
  {
   "cell_type": "markdown",
   "metadata": {},
   "source": [
    "## Numeric Investigations into Rotation Matrices:"
   ]
  },
  {
   "cell_type": "markdown",
   "metadata": {},
   "source": [
    "## What do we mean by the inverse of a matrix?"
   ]
  },
  {
   "cell_type": "markdown",
   "metadata": {},
   "source": [
    "## What are matrix inverses used for?"
   ]
  },
  {
   "cell_type": "markdown",
   "metadata": {},
   "source": [
    "## How do I find a matrix inverse numerically using `numpy`?"
   ]
  },
  {
   "cell_type": "markdown",
   "metadata": {},
   "source": [
    "## How do I verify that I have found the inverse of a matrix?\n",
    "\n",
    "- what does it mean to say one matrix is the inverse of another?"
   ]
  },
  {
   "cell_type": "markdown",
   "metadata": {},
   "source": [
    "## Do all matrices have inverses?\n",
    "\n",
    "- how can I tell if a matrix is invertible or not?"
   ]
  },
  {
   "cell_type": "markdown",
   "metadata": {},
   "source": [
    "## Claim 1:\n",
    "\n",
    "$$^B_A\\mathbf{R}(\\theta) = \\; ^A_B\\mathbf{R}(-\\theta)$$\n",
    "\n",
    "for rotation about a single axes.\n",
    "\n",
    "- How can we numerically verify this?"
   ]
  },
  {
   "cell_type": "markdown",
   "metadata": {},
   "source": [
    "## Claim 2:\n",
    "\n",
    "$$^B_A\\mathbf{R}(\\theta) = \\; ^A_B\\mathbf{R}(\\theta)^{-1}$$\n",
    "\n",
    "for any rotation matrix.\n",
    "\n",
    "- What are we saying mathematically?\n",
    "- How can we numerically verify this?"
   ]
  },
  {
   "cell_type": "markdown",
   "metadata": {},
   "source": [
    "## Claim 3:\n",
    "\n",
    "$$^B_A\\mathbf{R}(\\theta) = \\; ^A_B\\mathbf{R}(\\theta)^{-1} = \\; ^A_B\\mathbf{R}(\\theta)^{T}$$\n",
    "\n",
    "for any rotation matrix.\n",
    "\n",
    "- How can we numerically verify this?\n",
    "- Can we say anything about this mathematically or symbolically for certain cases?\n",
    "- Do dot products help us here?\n",
    "    - If the columns are unit vectors, how does that help us?"
   ]
  },
  {
   "cell_type": "markdown",
   "metadata": {},
   "source": [
    "# Numeric Examples\n",
    "\n",
    "- use `robotics.py` to transform vectors between frames A and B using $^A_B\\mathbf{R}$ or \n",
    "$^B_A\\mathbf{R}$ as appropriate"
   ]
  },
  {
   "cell_type": "markdown",
   "metadata": {},
   "source": [
    "<img src=http://www4.gvsu.edu/KRAUSSRY/445_lectures/lecture_04/Rba_active_learning_trimmed.png width=\"500\">"
   ]
  },
  {
   "cell_type": "markdown",
   "metadata": {},
   "source": [
    "## Problem Statement\n",
    "\n",
    "- For the axis shown above, use `robotics.py` to find $^A_B\\mathbf{R}$ and $^B_A\\mathbf{R}$.\n",
    "- Then calculate $^A\\mathbf{P}$, $^B\\mathbf{Q}$, $^A\\mathbf{M}$, and $^B\\mathbf{N}$.\n",
    "- Compare two different approaches to finding $^B_A\\mathbf{R}$\n",
    "    1. using $R_z(-\\theta)$\n",
    "    2. $^B_A\\mathbf{R} \\; = \\; ^A_B\\mathbf{R}^T$\n",
    "- verify that $^B_A\\mathbf{R} \\; = \\; ^A_B\\mathbf{R}^{-1}$\n",
    "    - also try $R_x$ and $R_y$ and verify that the transpose of a rotation matrix is also the inverse"
   ]
  },
  {
   "cell_type": "code",
   "execution_count": null,
   "metadata": {},
   "outputs": [],
   "source": []
  }
 ],
 "metadata": {
  "kernelspec": {
   "display_name": "Python 3",
   "language": "python",
   "name": "python3"
  },
  "language_info": {
   "codemirror_mode": {
    "name": "ipython",
    "version": 3
   },
   "file_extension": ".py",
   "mimetype": "text/x-python",
   "name": "python",
   "nbconvert_exporter": "python",
   "pygments_lexer": "ipython3",
   "version": "3.7.6"
  }
 },
 "nbformat": 4,
 "nbformat_minor": 2
}
