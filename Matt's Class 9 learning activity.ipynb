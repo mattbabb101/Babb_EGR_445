{
 "cells": [
  {
   "cell_type": "code",
   "execution_count": 5,
   "metadata": {},
   "outputs": [],
   "source": [
    "%matplotlib inline\n",
    "import matplotlib.pyplot as plt\n",
    "import numpy as np\n",
    "from numpy import sin, cos, tan, pi\n",
    "import robotics\n",
    "from robotics import Rx, Ry, Rz, sind, cosd, DH, prettymat\n",
    "rtd = 180/pi\n",
    "dtr = pi/180"
   ]
  },
  {
   "cell_type": "markdown",
   "metadata": {},
   "source": [
    "## Problem 1"
   ]
  },
  {
   "cell_type": "markdown",
   "metadata": {},
   "source": [
    "Frames 1 and 2 are originally aligned and have the same origin (i.e. they are completely coincident).  Frame 2 is rotated by 90$^\\circ$ about $\\hat{X}_2$ and then translated 10 cm along $\\hat{X}_2$.  Frame 2 is then rotated about the new $\\hat{Z}_2$ by 30$^\\circ$ and translated by 5 cm along $\\hat{Z}_2$.  \n",
    "\n",
    "### Problem 1 A\n",
    "\n",
    "- Find $^1_2\\mathbf{T}$ using `robotics.HTx`, `robotics.HTz`, and `np.dot`\n",
    "    - compare this HT matrix to using `robotics.DH`\n",
    "- sketch frames 1 and 2 with respect to one another\n",
    "\n",
    "### Problem 1B\n",
    "\n",
    "- Repeat problem 1 A, but reverse the order of the rotations and translations:\n",
    "    - translate by 5 cm along $\\hat{Z}$ and rotate by 30$^\\circ$ about $\\hat{Z}$ first and then translate by 10 cm along the new $\\hat{X}_2$ and rotate by 90$^\\circ$ about the new $\\hat{X}_2$"
   ]
  },
  {
   "cell_type": "code",
   "execution_count": 9,
   "metadata": {},
   "outputs": [
    {
     "data": {
      "text/plain": [
       "(array([[ 0.8660254, -0.5      ,  0.       , 15.       ],\n",
       "        [ 0.       ,  0.       , -1.       ,  0.       ],\n",
       "        [ 0.5      ,  0.8660254,  0.       ,  0.       ],\n",
       "        [ 0.       ,  0.       ,  0.       ,  1.       ]]),\n",
       " array([[ 0.8660254, -0.5      ,  0.       , 10.       ],\n",
       "        [ 0.       ,  0.       , -1.       , -5.       ],\n",
       "        [ 0.5      ,  0.8660254,  0.       ,  0.       ],\n",
       "        [ 0.       ,  0.       ,  0.       ,  1.       ]]))"
      ]
     },
     "execution_count": 9,
     "metadata": {},
     "output_type": "execute_result"
    }
   ],
   "source": [
    "alpha = 90 \n",
    "a = 10\n",
    "theta = 30\n",
    "d = 5\n",
    "\n",
    "HTx = robotics.HTx(alpha,a)\n",
    "HTz = robotics.HTz(theta,d)\n",
    "\n",
    "T12_p2 = prettymat(DH(alpha, a, theta, d))\n",
    "T12_p1 = prettymat(np.dot(HTx,HTz))\n",
    "T12_p1, T12_p2"
   ]
  },
  {
   "cell_type": "code",
   "execution_count": null,
   "metadata": {},
   "outputs": [],
   "source": []
  },
  {
   "cell_type": "markdown",
   "metadata": {},
   "source": [
    "## Problem 2"
   ]
  },
  {
   "cell_type": "markdown",
   "metadata": {},
   "source": [
    "- Attach the frames necessary to model the robot below using the DH convention\n",
    "- fill out a table of the DH parameters\n",
    "- find $^0P_{tip}$ given the values:\n",
    "    - $L_1$ = 9 cm\n",
    "    - $L_2$ = 8 cm\n",
    "    - $L_3$ = 7 cm\n",
    "    - $\\theta_1$ = 20$^\\circ$\n",
    "    - $\\theta_2$ = -40$^\\circ$\n",
    "    - $\\theta_3$ = 15$^\\circ$\n",
    "    \n",
    "<img src=\"https://drive.google.com/uc?id=1-1N0v4UK-UNam_2DuNOHPTA3bQr-vICZ\" width=400px>"
   ]
  },
  {
   "cell_type": "code",
   "execution_count": 11,
   "metadata": {},
   "outputs": [
    {
     "data": {
      "text/plain": [
       "array([22.94813744, -0.26807006,  0.        ,  1.        ])"
      ]
     },
     "execution_count": 11,
     "metadata": {},
     "output_type": "execute_result"
    }
   ],
   "source": [
    "\n",
    "th1 = 20 \n",
    "th2 = -40\n",
    "th3 = 15\n",
    "alph1 = 0\n",
    "alph2 = 0\n",
    "alph3 = 0\n",
    "a1 =0\n",
    "a2 = 9\n",
    "a3 = 8\n",
    "d1 = 0\n",
    "d2 = 0\n",
    "d3 = 0\n",
    "T01 = DH(alph1,a1,th1,d1)\n",
    "T12 = DH(alph2,a2,th2,d2)\n",
    "T23 = DH(alph3,a3,th3,d3)\n",
    "T03 = robotics.dot_list([T01,T12,T23])\n",
    "\n",
    "Ptip3 = ([7,0,0,1])\n",
    "Ptip0 = np.dot(T03,Ptip3)\n",
    "Ptip0"
   ]
  },
  {
   "cell_type": "markdown",
   "metadata": {},
   "source": [
    "## Problem 3"
   ]
  },
  {
   "cell_type": "markdown",
   "metadata": {},
   "source": [
    "- Attach the frames necessary to model the robot below using the DH convention\n",
    "- fill out a table of the DH parameters\n",
    "- find $^0P_{tip}$ given the values:\n",
    "    - $A$ = 10 cm\n",
    "    - $B$ = 8 cm\n",
    "    - $C$ = 6 cm\n",
    "    - $\\theta_1$ = 30$^\\circ$\n",
    "    - $\\theta_2$ = 20$^\\circ$\n",
    "    - $\\theta_3$ = -15$^\\circ$\n",
    "    \n",
    "<img src=\"https://drive.google.com/uc?id=1550T-dKKBKwO93b0nDI0Mnqeibfr94pp\" width=450px>"
   ]
  },
  {
   "cell_type": "markdown",
   "metadata": {},
   "source": [
    "### My Way"
   ]
  },
  {
   "cell_type": "code",
   "execution_count": 17,
   "metadata": {
    "scrolled": true
   },
   "outputs": [
    {
     "data": {
      "text/plain": [
       "(array([[ 0.95812148, -0.22969282,  0.17101007, 15.58845727],\n",
       "        [ 0.27233657,  0.91547772, -0.29619813,  9.        ],\n",
       "        [-0.08852133,  0.33036609,  0.93969262,  0.        ],\n",
       "        [ 0.        ,  0.        ,  0.        ,  1.        ]]),\n",
       " array([21.33718613, 10.63401945, -0.53112796,  1.        ]))"
      ]
     },
     "execution_count": 17,
     "metadata": {},
     "output_type": "execute_result"
    }
   ],
   "source": [
    "th1 = 30 \n",
    "th2 = 0\n",
    "th3 = -15\n",
    "alph1 = 0\n",
    "alph2 = 20\n",
    "alph3 = 0\n",
    "a1 =0\n",
    "a2 = 10\n",
    "a3 = 8\n",
    "d1 = 0\n",
    "d2 = 0\n",
    "d3 = 0\n",
    "T01 = DH(alph1,a1,th1,d1)\n",
    "T12 = DH(alph2,a2,th2,d2)\n",
    "T23 = DH(alph3,a3,th3,d3)\n",
    "T03 = robotics.dot_list([T01,T12,T23])\n",
    "\n",
    "Ptip3 = ([6,0,0,1])\n",
    "Ptip0 = np.dot(T03,Ptip3)\n",
    "T03, Ptip0"
   ]
  },
  {
   "cell_type": "markdown",
   "metadata": {},
   "source": [
    "### Your Way"
   ]
  },
  {
   "cell_type": "code",
   "execution_count": 19,
   "metadata": {},
   "outputs": [
    {
     "data": {
      "text/plain": [
       "(array([[-0.22969282, -0.95812148,  0.17101007, 15.58845727],\n",
       "        [ 0.91547772, -0.27233657, -0.29619813,  9.        ],\n",
       "        [ 0.33036609,  0.08852133,  0.93969262,  0.        ],\n",
       "        [ 0.        ,  0.        ,  0.        ,  1.        ]]),\n",
       " array([21.33718613, 10.63401945, -0.53112796,  1.        ]))"
      ]
     },
     "execution_count": 19,
     "metadata": {},
     "output_type": "execute_result"
    }
   ],
   "source": [
    "th1 = 30+90\n",
    "th2 = 20\n",
    "th3 = -15\n",
    "alph1 = 0\n",
    "alph2 = 90\n",
    "alph3 = -90\n",
    "a1 =0\n",
    "a2 = 0\n",
    "a3 = 0\n",
    "d1 = 0\n",
    "d2 = 8+10\n",
    "d3 = 0\n",
    "T01 = DH(alph1,a1,th1,d1)\n",
    "T12 = DH(alph2,a2,th2,d2)\n",
    "T23 = DH(alph3,a3,th3,d3)\n",
    "T03 = prettymat(robotics.dot_list([T01,T12,T23]))\n",
    "\n",
    "Ptip3 = ([0,-6,0,1])\n",
    "Ptip0 = np.dot(T03,Ptip3)\n",
    "T03, Ptip0"
   ]
  },
  {
   "cell_type": "markdown",
   "metadata": {},
   "source": [
    "## Problem 4 (Example 3.4)"
   ]
  },
  {
   "cell_type": "markdown",
   "metadata": {},
   "source": [
    "<!-- Slide 2 -->\n",
    "\n",
    "- draw the schematic\n",
    "- fill in the DH table\n",
    "- note the actuated parameters\n",
    "\n",
    "<img src=\"https://drive.google.com/uc?id=1K1a58_P9mfsiBbFM1uhLQIhN57CHxsRq\" width=400px>\n"
   ]
  },
  {
   "cell_type": "code",
   "execution_count": null,
   "metadata": {},
   "outputs": [],
   "source": []
  },
  {
   "cell_type": "markdown",
   "metadata": {},
   "source": [
    "## Problem 5"
   ]
  },
  {
   "cell_type": "markdown",
   "metadata": {},
   "source": [
    "- draw the schematic and fill in the DH table\n",
    "\n",
    "<img src=\"https://drive.google.com/uc?id=1rV1zxDViyq2VkTdFD9G0ONDQII7SCYFw\" width=400px>\n"
   ]
  },
  {
   "cell_type": "code",
   "execution_count": null,
   "metadata": {},
   "outputs": [],
   "source": []
  }
 ],
 "metadata": {
  "kernelspec": {
   "display_name": "Python 3",
   "language": "python",
   "name": "python3"
  },
  "language_info": {
   "codemirror_mode": {
    "name": "ipython",
    "version": 3
   },
   "file_extension": ".py",
   "mimetype": "text/x-python",
   "name": "python",
   "nbconvert_exporter": "python",
   "pygments_lexer": "ipython3",
   "version": "3.7.6"
  }
 },
 "nbformat": 4,
 "nbformat_minor": 4
}
