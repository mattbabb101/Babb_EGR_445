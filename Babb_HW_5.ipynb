{
 "cells": [
  {
   "cell_type": "code",
   "execution_count": 14,
   "metadata": {},
   "outputs": [],
   "source": [
    "import serial, time\n",
    "%matplotlib inline\n",
    "import matplotlib.pyplot as plt\n",
    "import numpy as np\n",
    "from numpy import sin, cos, tan, pi\n",
    "import robotics\n",
    "from robotics import Rx, Ry, Rz, sind, cosd, DH\n",
    "import sympy\n",
    "from sympy.interactive import printing\n",
    "printing.init_printing(use_latex=True)\n",
    "import robotics_sympy"
   ]
  },
  {
   "cell_type": "code",
   "execution_count": 15,
   "metadata": {},
   "outputs": [],
   "source": [
    "def DH(alpha, a, theta, d):\n",
    "    T1Q = robotics_sympy.HTx(alpha,a)\n",
    "    TQ2 = robotics_sympy.HTz(theta,0,0,d)\n",
    "    T12 = T1Q * TQ2\n",
    "    return T12"
   ]
  },
  {
   "cell_type": "markdown",
   "metadata": {},
   "source": [
    "### Problem 3.3"
   ]
  },
  {
   "cell_type": "code",
   "execution_count": 16,
   "metadata": {},
   "outputs": [
    {
     "data": {
      "text/latex": [
       "$\\displaystyle \\left[\\begin{matrix}\\left(- \\sin{\\left(\\theta_{1} \\right)} \\sin{\\left(\\theta_{2} \\right)} \\cos{\\left(90 \\right)} + \\cos{\\left(\\theta_{1} \\right)} \\cos{\\left(\\theta_{2} \\right)}\\right) \\cos{\\left(\\theta_{3} \\right)} + \\left(- \\sin{\\left(\\theta_{1} \\right)} \\cos{\\left(90 \\right)} \\cos{\\left(\\theta_{2} \\right)} - \\sin{\\left(\\theta_{2} \\right)} \\cos{\\left(\\theta_{1} \\right)}\\right) \\sin{\\left(\\theta_{3} \\right)} & - \\left(- \\sin{\\left(\\theta_{1} \\right)} \\sin{\\left(\\theta_{2} \\right)} \\cos{\\left(90 \\right)} + \\cos{\\left(\\theta_{1} \\right)} \\cos{\\left(\\theta_{2} \\right)}\\right) \\sin{\\left(\\theta_{3} \\right)} + \\left(- \\sin{\\left(\\theta_{1} \\right)} \\cos{\\left(90 \\right)} \\cos{\\left(\\theta_{2} \\right)} - \\sin{\\left(\\theta_{2} \\right)} \\cos{\\left(\\theta_{1} \\right)}\\right) \\cos{\\left(\\theta_{3} \\right)} & \\sin{\\left(90 \\right)} \\sin{\\left(\\theta_{1} \\right)} & L_{1} \\cos{\\left(\\theta_{1} \\right)} + L_{2} \\left(- \\sin{\\left(\\theta_{1} \\right)} \\sin{\\left(\\theta_{2} \\right)} \\cos{\\left(90 \\right)} + \\cos{\\left(\\theta_{1} \\right)} \\cos{\\left(\\theta_{2} \\right)}\\right)\\\\\\left(- \\sin{\\left(\\theta_{1} \\right)} \\sin{\\left(\\theta_{2} \\right)} + \\cos{\\left(90 \\right)} \\cos{\\left(\\theta_{1} \\right)} \\cos{\\left(\\theta_{2} \\right)}\\right) \\sin{\\left(\\theta_{3} \\right)} + \\left(\\sin{\\left(\\theta_{1} \\right)} \\cos{\\left(\\theta_{2} \\right)} + \\sin{\\left(\\theta_{2} \\right)} \\cos{\\left(90 \\right)} \\cos{\\left(\\theta_{1} \\right)}\\right) \\cos{\\left(\\theta_{3} \\right)} & \\left(- \\sin{\\left(\\theta_{1} \\right)} \\sin{\\left(\\theta_{2} \\right)} + \\cos{\\left(90 \\right)} \\cos{\\left(\\theta_{1} \\right)} \\cos{\\left(\\theta_{2} \\right)}\\right) \\cos{\\left(\\theta_{3} \\right)} - \\left(\\sin{\\left(\\theta_{1} \\right)} \\cos{\\left(\\theta_{2} \\right)} + \\sin{\\left(\\theta_{2} \\right)} \\cos{\\left(90 \\right)} \\cos{\\left(\\theta_{1} \\right)}\\right) \\sin{\\left(\\theta_{3} \\right)} & - \\sin{\\left(90 \\right)} \\cos{\\left(\\theta_{1} \\right)} & L_{1} \\sin{\\left(\\theta_{1} \\right)} + L_{2} \\left(\\sin{\\left(\\theta_{1} \\right)} \\cos{\\left(\\theta_{2} \\right)} + \\sin{\\left(\\theta_{2} \\right)} \\cos{\\left(90 \\right)} \\cos{\\left(\\theta_{1} \\right)}\\right)\\\\\\sin{\\left(90 \\right)} \\sin{\\left(\\theta_{2} \\right)} \\cos{\\left(\\theta_{3} \\right)} + \\sin{\\left(90 \\right)} \\sin{\\left(\\theta_{3} \\right)} \\cos{\\left(\\theta_{2} \\right)} & - \\sin{\\left(90 \\right)} \\sin{\\left(\\theta_{2} \\right)} \\sin{\\left(\\theta_{3} \\right)} + \\sin{\\left(90 \\right)} \\cos{\\left(\\theta_{2} \\right)} \\cos{\\left(\\theta_{3} \\right)} & \\cos{\\left(90 \\right)} & L_{2} \\sin{\\left(90 \\right)} \\sin{\\left(\\theta_{2} \\right)}\\\\0 & 0 & 0 & 1\\end{matrix}\\right]$"
      ],
      "text/plain": [
       "⎡(-sin(θ₁)⋅sin(θ₂)⋅cos(90) + cos(θ₁)⋅cos(θ₂))⋅cos(θ₃) + (-sin(θ₁)⋅cos(90)⋅cos(\n",
       "⎢                                                                             \n",
       "⎢(-sin(θ₁)⋅sin(θ₂) + cos(90)⋅cos(θ₁)⋅cos(θ₂))⋅sin(θ₃) + (sin(θ₁)⋅cos(θ₂) + sin\n",
       "⎢                                                                             \n",
       "⎢                             sin(90)⋅sin(θ₂)⋅cos(θ₃) + sin(90)⋅sin(θ₃)⋅cos(θ₂\n",
       "⎢                                                                             \n",
       "⎣                                                     0                       \n",
       "\n",
       "θ₂) - sin(θ₂)⋅cos(θ₁))⋅sin(θ₃)  -(-sin(θ₁)⋅sin(θ₂)⋅cos(90) + cos(θ₁)⋅cos(θ₂))⋅\n",
       "                                                                              \n",
       "(θ₂)⋅cos(90)⋅cos(θ₁))⋅cos(θ₃)    (-sin(θ₁)⋅sin(θ₂) + cos(90)⋅cos(θ₁)⋅cos(θ₂))⋅\n",
       "                                                                              \n",
       ")                                                            -sin(90)⋅sin(θ₂)⋅\n",
       "                                                                              \n",
       "                                                                              \n",
       "\n",
       "sin(θ₃) + (-sin(θ₁)⋅cos(90)⋅cos(θ₂) - sin(θ₂)⋅cos(θ₁))⋅cos(θ₃)  sin(90)⋅sin(θ₁\n",
       "                                                                              \n",
       "cos(θ₃) - (sin(θ₁)⋅cos(θ₂) + sin(θ₂)⋅cos(90)⋅cos(θ₁))⋅sin(θ₃)   -sin(90)⋅cos(θ\n",
       "                                                                              \n",
       "sin(θ₃) + sin(90)⋅cos(θ₂)⋅cos(θ₃)                                   cos(90)   \n",
       "                                                                              \n",
       "       0                                                               0      \n",
       "\n",
       ")   L₁⋅cos(θ₁) + L₂⋅(-sin(θ₁)⋅sin(θ₂)⋅cos(90) + cos(θ₁)⋅cos(θ₂))⎤\n",
       "                                                                ⎥\n",
       "₁)  L₁⋅sin(θ₁) + L₂⋅(sin(θ₁)⋅cos(θ₂) + sin(θ₂)⋅cos(90)⋅cos(θ₁)) ⎥\n",
       "                                                                ⎥\n",
       "                         L₂⋅sin(90)⋅sin(θ₂)                     ⎥\n",
       "                                                                ⎥\n",
       "                                 1                              ⎦"
      ]
     },
     "execution_count": 16,
     "metadata": {},
     "output_type": "execute_result"
    }
   ],
   "source": [
    "alpha1, a1, th1, d1 = sympy.symbols(['alpha1','a1','theta1','d1'])\n",
    "alpha2, a2, th2, d2 = sympy.symbols(['alpha2','a2','theta2','d2'])\n",
    "alpha3, a3, th3, d3 = sympy.symbols(['alpha3','a3','theta3','d3'])\n",
    "L1, L2, L3 = sympy.symbols(['L1','L2', 'L3'])\n",
    "T01=DH(0,0,th1,0)\n",
    "T12=DH(90,L1,th2,0)\n",
    "T23=DH(0,L2,th3,0)\n",
    "T03 = T01 * T12 * T23\n",
    "T03"
   ]
  },
  {
   "cell_type": "markdown",
   "metadata": {},
   "source": [
    "<img src=\"https://drive.google.com/uc?id=1B_0subpgZoboD8TwLFWOZSOr6yE_Nkoh\" width=700px>"
   ]
  },
  {
   "cell_type": "markdown",
   "metadata": {},
   "source": [
    "### Problem 3.4"
   ]
  },
  {
   "cell_type": "code",
   "execution_count": 13,
   "metadata": {},
   "outputs": [
    {
     "data": {
      "text/latex": [
       "$\\displaystyle \\left( \\left[\\begin{matrix}\\cos{\\left(\\theta_{1} \\right)} & - \\sin{\\left(\\theta_{1} \\right)} & 0 & 0\\\\\\sin{\\left(\\theta_{1} \\right)} & \\cos{\\left(\\theta_{1} \\right)} & 0 & 0\\\\0 & 0 & 1 & L_{1} + L_{2}\\\\0 & 0 & 0 & 1\\end{matrix}\\right], \\  \\left[\\begin{matrix}\\cos{\\left(\\theta_{2} \\right)} & - \\sin{\\left(\\theta_{2} \\right)} & 0 & 0\\\\\\sin{\\left(\\theta_{2} \\right)} \\cos{\\left(90 \\right)} & \\cos{\\left(90 \\right)} \\cos{\\left(\\theta_{2} \\right)} & - \\sin{\\left(90 \\right)} & 0\\\\\\sin{\\left(90 \\right)} \\sin{\\left(\\theta_{2} \\right)} & \\sin{\\left(90 \\right)} \\cos{\\left(\\theta_{2} \\right)} & \\cos{\\left(90 \\right)} & 0\\\\0 & 0 & 0 & 1\\end{matrix}\\right], \\  \\left[\\begin{matrix}\\cos{\\left(\\theta_{3} \\right)} & - \\sin{\\left(\\theta_{3} \\right)} & 0 & L_{3}\\\\\\sin{\\left(\\theta_{3} \\right)} & \\cos{\\left(\\theta_{3} \\right)} & 0 & 0\\\\0 & 0 & 1 & 0\\\\0 & 0 & 0 & 1\\end{matrix}\\right]\\right)$"
      ],
      "text/plain": [
       "⎛⎡cos(θ₁)  -sin(θ₁)  0     0   ⎤  ⎡    cos(θ₂)         -sin(θ₂)         0     \n",
       "⎜⎢                             ⎥  ⎢                                           \n",
       "⎜⎢sin(θ₁)  cos(θ₁)   0     0   ⎥  ⎢sin(θ₂)⋅cos(90)  cos(90)⋅cos(θ₂)  -sin(90) \n",
       "⎜⎢                             ⎥, ⎢                                           \n",
       "⎜⎢   0        0      1  L₁ + L₂⎥  ⎢sin(90)⋅sin(θ₂)  sin(90)⋅cos(θ₂)  cos(90)  \n",
       "⎜⎢                             ⎥  ⎢                                           \n",
       "⎝⎣   0        0      0     1   ⎦  ⎣       0                0            0     \n",
       "\n",
       " 0⎤  ⎡cos(θ₃)  -sin(θ₃)  0  L₃⎤⎞\n",
       "  ⎥  ⎢                        ⎥⎟\n",
       " 0⎥  ⎢sin(θ₃)  cos(θ₃)   0  0 ⎥⎟\n",
       "  ⎥, ⎢                        ⎥⎟\n",
       " 0⎥  ⎢   0        0      1  0 ⎥⎟\n",
       "  ⎥  ⎢                        ⎥⎟\n",
       " 1⎦  ⎣   0        0      0  1 ⎦⎠"
      ]
     },
     "execution_count": 13,
     "metadata": {},
     "output_type": "execute_result"
    }
   ],
   "source": [
    "T01 = mySympyDH(0,0,th1,L1+L2)\n",
    "T12 = mySympyDH(90,0,th2,0)\n",
    "T23 = mySympyDH(0,L3,th3,0)\n",
    "T01, T12, T23"
   ]
  },
  {
   "cell_type": "markdown",
   "metadata": {},
   "source": [
    "<img src=\"https://drive.google.com/uc?id=188EMCEKfYqy4zJnEwkNU0X9_5ZLTYjJe\" width=700px>"
   ]
  },
  {
   "cell_type": "markdown",
   "metadata": {},
   "source": [
    "### Problem 3.9"
   ]
  },
  {
   "cell_type": "code",
   "execution_count": null,
   "metadata": {},
   "outputs": [],
   "source": []
  },
  {
   "cell_type": "markdown",
   "metadata": {},
   "source": [
    "### Problem 3.16"
   ]
  },
  {
   "cell_type": "markdown",
   "metadata": {},
   "source": [
    "<img src=\"https://drive.google.com/uc?id=12_KcdeNAKYq5-aKSJwZTWRF_wRwQ1lNZ\" width=700px>"
   ]
  }
 ],
 "metadata": {
  "kernelspec": {
   "display_name": "Python 3",
   "language": "python",
   "name": "python3"
  },
  "language_info": {
   "codemirror_mode": {
    "name": "ipython",
    "version": 3
   },
   "file_extension": ".py",
   "mimetype": "text/x-python",
   "name": "python",
   "nbconvert_exporter": "python",
   "pygments_lexer": "ipython3",
   "version": "3.7.6"
  }
 },
 "nbformat": 4,
 "nbformat_minor": 4
}
