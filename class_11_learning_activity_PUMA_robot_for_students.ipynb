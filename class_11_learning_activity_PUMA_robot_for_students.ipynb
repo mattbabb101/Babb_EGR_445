{
 "cells": [
  {
   "cell_type": "markdown",
   "metadata": {},
   "source": [
    "## Part 1: PUMA Schematic\n",
    "\n",
    "- watch this video and draw a schematic of the PUMA robot:\n",
    "[https://youtu.be/ArzP7rh4_9Q](https://youtu.be/ArzP7rh4_9Q)\n",
    "- redraw your schematic with all joint angles equal to zero ($\\theta_i = 0$), avoiding $\\pm90^\\circ$ terms in the joint angles as much as possible\n",
    "- fill out a DH table for your model and label any parameters you need on your schematic"
   ]
  },
  {
   "cell_type": "markdown",
   "metadata": {},
   "source": [
    "Here is a link to Dr. Krauss' YouTube video concerning the PVC PUMA model:\n",
    "[https://youtu.be/lX0cCZkAzrU](https://youtu.be/lX0cCZkAzrU)"
   ]
  },
  {
   "cell_type": "code",
   "execution_count": null,
   "metadata": {},
   "outputs": [],
   "source": []
  },
  {
   "cell_type": "markdown",
   "metadata": {},
   "source": [
    "## Part 2: PUMA Numeric DH Forward Kinematics"
   ]
  },
  {
   "cell_type": "code",
   "execution_count": 2,
   "metadata": {},
   "outputs": [],
   "source": [
    "%matplotlib inline\n",
    "import matplotlib.pyplot as plt\n",
    "import numpy as np\n",
    "from numpy import sin, cos, tan, pi\n",
    "import robotics\n",
    "from robotics import Rx, Ry, Rz, sind, cosd, DH\n",
    "rtd = 180/pi\n",
    "dtr = pi/180"
   ]
  },
  {
   "cell_type": "markdown",
   "metadata": {},
   "source": [
    "<img src=\"https://drive.google.com/uc?id=18nGQ66WL2GDNDOObo7Z5cGj2uaGZwyKr\" width=450px>"
   ]
  },
  {
   "cell_type": "markdown",
   "metadata": {},
   "source": [
    "For the PUMA model above, the following lengths are in inches:"
   ]
  },
  {
   "cell_type": "code",
   "execution_count": 3,
   "metadata": {},
   "outputs": [],
   "source": [
    "A = 16\n",
    "B = 9\n",
    "C = 21\n",
    "D = 3.5\n",
    "E = 3\n",
    "F = 11\n",
    "G = 5"
   ]
  },
  {
   "cell_type": "markdown",
   "metadata": {},
   "source": [
    "Find the tip position if the joint angles follow the pattern $\\theta_1 = 10^\\circ$, $\\theta_2 = 20^\\circ$, $\\ldots$, $\\theta_6 = 60^\\circ$."
   ]
  },
  {
   "cell_type": "code",
   "execution_count": null,
   "metadata": {},
   "outputs": [],
   "source": []
  }
 ],
 "metadata": {
  "kernelspec": {
   "display_name": "Python 3",
   "language": "python",
   "name": "python3"
  },
  "language_info": {
   "codemirror_mode": {
    "name": "ipython",
    "version": 3
   },
   "file_extension": ".py",
   "mimetype": "text/x-python",
   "name": "python",
   "nbconvert_exporter": "python",
   "pygments_lexer": "ipython3",
   "version": "3.7.6"
  }
 },
 "nbformat": 4,
 "nbformat_minor": 4
}
