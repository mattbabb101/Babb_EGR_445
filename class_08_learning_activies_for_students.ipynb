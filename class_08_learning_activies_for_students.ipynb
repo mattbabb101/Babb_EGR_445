{
 "cells": [
  {
   "cell_type": "code",
   "execution_count": 2,
   "metadata": {},
   "outputs": [],
   "source": [
    "%matplotlib inline\n",
    "import matplotlib.pyplot as plt\n",
    "import numpy as np\n",
    "from numpy import sin, cos, tan, pi\n",
    "import robotics\n",
    "from robotics import Rx, Ry, Rz, sind, cosd, DH\n",
    "rtd = 180/pi\n",
    "dtr = pi/180"
   ]
  },
  {
   "cell_type": "markdown",
   "metadata": {},
   "source": [
    "## Problem 1"
   ]
  },
  {
   "cell_type": "markdown",
   "metadata": {},
   "source": [
    "<img src=\"https://drive.google.com/uc?id=13xZoRttTU6p11YgV77pmNBWbe6k3LAPP\" width=450px>"
   ]
  },
  {
   "cell_type": "markdown",
   "metadata": {},
   "source": [
    "Find $^BP$, $^BQ$, $^BR$, $^AS$ using HT matrices."
   ]
  },
  {
   "cell_type": "code",
   "execution_count": 16,
   "metadata": {},
   "outputs": [],
   "source": [
    "Pa = np.array([0,10,0]) \n",
    "Qa = np.array([9,0,0])\n",
    "Ra = np.array([10,0,0])\n",
    "Sb = np.array([0,0,3])\n",
    "Z= np.array([0,0,0,1])\n",
    "Pborga= np.array([9,10,0])\n",
    "Rab =  np.array([[0,-sind(20),cosd(20)],\n",
    "                 [0,-cosd(20),-sind(20)],\n",
    "                 [1,0,0]])\n",
    "Rba = np.transpose(Rab)\n"
   ]
  },
  {
   "cell_type": "code",
   "execution_count": 19,
   "metadata": {},
   "outputs": [],
   "source": [
    "Tab_temp = np.column_stack([Rba,Pborga])\n",
    "Tab = np.row_stack((Tab_temp,Z))\n",
    "Tab\n",
    "Tba = robotics.HTinv(Tab)\n",
    "Paorgb = -np.dot(Rba,Pborga)\n",
    "Pb = Tab *\n",
    "Qb = \n",
    "Rb = \n",
    "Sa = "
   ]
  },
  {
   "cell_type": "markdown",
   "metadata": {},
   "source": [
    "### Answers:\n",
    "\n",
    "$$^AS = \\; \\begin{bmatrix} 11.82 \\\\ 8.974 \\\\ 0 \\\\ 1 \\end{bmatrix}"
   ]
  },
  {
   "cell_type": "markdown",
   "metadata": {},
   "source": [
    "## Problem 2\n",
    "\n"
   ]
  },
  {
   "cell_type": "markdown",
   "metadata": {},
   "source": [
    "<img src=\"https://drive.google.com/uc?id=1EmWSG3rLUpdqbhNxZnu5xjAWzYFRosnB\" width=400px>"
   ]
  },
  {
   "cell_type": "markdown",
   "metadata": {},
   "source": [
    "If $d$ = 10 in, $L$ = 8in, and $\\theta=25^\\circ$, use HT matrices to find $^0P$."
   ]
  },
  {
   "cell_type": "code",
   "execution_count": null,
   "metadata": {},
   "outputs": [],
   "source": [
    "P1 = np.array([l,0,0,1])\n",
    "P0 = np.dot(robotics.HTz(theta,x=d,y=0,z=0),P1)\n"
   ]
  },
  {
   "cell_type": "markdown",
   "metadata": {},
   "source": [
    "## Problem 3\n",
    "\n",
    "Solve the silverbox robot problem using HT matrices:"
   ]
  },
  {
   "cell_type": "markdown",
   "metadata": {},
   "source": [
    "<img src=\"https://drive.google.com/uc?id=1cstxZePo6s3XfSzMkWID4E_mdSExTQkm\" width=450px>"
   ]
  },
  {
   "cell_type": "markdown",
   "metadata": {},
   "source": [
    "<img src=\"https://drive.google.com/uc?id=1AA2dilCYYbOX0XqNmQN_DKpIdfnDsOth\" width=450px>"
   ]
  },
  {
   "cell_type": "markdown",
   "metadata": {},
   "source": [
    "<img src=\"https://drive.google.com/uc?id=1tk5mwGjYVSzhmAusbePHvIJfpxBLFRb3\" width=400px>"
   ]
  },
  {
   "cell_type": "markdown",
   "metadata": {},
   "source": [
    "Given the parameters below, find the tip position in the global coordinate system using HT matrices.\n",
    "\n",
    "**Note:** There is a 90$^\\circ$ rotation about $\\hat{X}_1$ to get from $\\hat{Z}_1$ to $\\hat{Z}_2$."
   ]
  },
  {
   "cell_type": "code",
   "execution_count": 20,
   "metadata": {},
   "outputs": [],
   "source": [
    "L1 = 6\n",
    "L2 = 6.75\n",
    "th1 = 20\n",
    "th2 = 30\n",
    "th3 = 40"
   ]
  },
  {
   "cell_type": "code",
   "execution_count": null,
   "metadata": {},
   "outputs": [],
   "source": []
  },
  {
   "cell_type": "markdown",
   "metadata": {},
   "source": [
    "#### Answer to Problem 3:\n",
    "\n",
    "$$^0P = \\; \\begin{bmatrix} 7.052 \\\\ 2.567 \\\\ 9.343 \\end{bmatrix}$$"
   ]
  },
  {
   "cell_type": "markdown",
   "metadata": {},
   "source": [
    "## Problem 4"
   ]
  },
  {
   "cell_type": "markdown",
   "metadata": {},
   "source": [
    "Given \n",
    "\n",
    "$$^A_B\\mathbf{T} = \\; \\begin{bmatrix} 0 & -1 & 0 & 5 \\\\ 0 & 0 & -1 & 0 \\\\ 1 & 0 & 0 & 0 \\\\ 0 & 0 & 0 & 1 \\end{bmatrix}$$\n",
    "\n",
    "Find $^B_A\\mathbf{T}$ without using Python or a calculator.  Check your answer using `robotics.HTinv`."
   ]
  },
  {
   "cell_type": "code",
   "execution_count": 21,
   "metadata": {},
   "outputs": [
    {
     "data": {
      "text/plain": [
       "array([[ 0.,  0.,  1., -0.],\n",
       "       [-1.,  0.,  0.,  5.],\n",
       "       [ 0., -1.,  0., -0.],\n",
       "       [ 0.,  0.,  0.,  1.]])"
      ]
     },
     "execution_count": 21,
     "metadata": {},
     "output_type": "execute_result"
    }
   ],
   "source": [
    "Tab = np.array([[0,-1,0,5],[0,0,-1,0],[1,0,0,0],[0,0,0,1]])\n",
    "Tba = robotics.HTinv(Tab)\n",
    "Tba"
   ]
  },
  {
   "cell_type": "markdown",
   "metadata": {},
   "source": [
    "## Problem 5\n",
    "\n",
    "- look at the source for `robotics.dot_list`\n",
    "    - it uses the `pop` list method to start with the first matrix in the list\n",
    "    - it then multiplies the matrices from left to right  to find the overall product\n",
    "        - this is computationally inefficient\n",
    "- write a new function that multiplies from right to left so that if the last item in the list is a column vector the new function will be faster\n",
    "- verify that your new function gives the correct answer\n",
    "- use the `time.time` function from the `time` module to compare the computational time of your new function to `robotics.dot_list`"
   ]
  },
  {
   "cell_type": "code",
   "execution_count": 3,
   "metadata": {},
   "outputs": [],
   "source": [
    "robotics.dot_list??"
   ]
  },
  {
   "cell_type": "code",
   "execution_count": 3,
   "metadata": {},
   "outputs": [
    {
     "data": {
      "text/plain": [
       "(array([[-2.29692818e-01, -9.58121477e-01,  1.71010072e-01,\n",
       "          1.55884573e+01],\n",
       "        [ 9.15477720e-01, -2.72336574e-01, -2.96198133e-01,\n",
       "          9.00000000e+00],\n",
       "        [ 3.30366090e-01,  8.85213269e-02,  9.39692621e-01,\n",
       "          1.10218212e-15],\n",
       "        [ 0.00000000e+00,  0.00000000e+00,  0.00000000e+00,\n",
       "          1.00000000e+00]]),\n",
       " array([21.33718613, 10.63401945, -0.53112796,  1.        ]))"
      ]
     },
     "execution_count": 3,
     "metadata": {},
     "output_type": "execute_result"
    }
   ],
   "source": [
    "th1 = 30+90\n",
    "th2 = 20\n",
    "th3 = -15\n",
    "alph1 = 0\n",
    "alph2 = 90\n",
    "alph3 = -90\n",
    "a1 =0\n",
    "a2 = 0\n",
    "a3 = 0\n",
    "d1 = 0\n",
    "d2 = 8+10\n",
    "d3 = 0\n",
    "T01 = DH(alph1,a1,th1,d1)\n",
    "T12 = DH(alph2,a2,th2,d2)\n",
    "T23 = DH(alph3,a3,th3,d3)\n",
    "T03 = robotics.dot_list([T01,T12,T23])\n",
    "\n",
    "Ptip3 = ([0,-6,0,1])\n",
    "Ptip0 = np.dot(T03,Ptip3)\n",
    "T03, Ptip0"
   ]
  },
  {
   "cell_type": "code",
   "execution_count": null,
   "metadata": {},
   "outputs": [],
   "source": []
  }
 ],
 "metadata": {
  "kernelspec": {
   "display_name": "Python 3",
   "language": "python",
   "name": "python3"
  },
  "language_info": {
   "codemirror_mode": {
    "name": "ipython",
    "version": 3
   },
   "file_extension": ".py",
   "mimetype": "text/x-python",
   "name": "python",
   "nbconvert_exporter": "python",
   "pygments_lexer": "ipython3",
   "version": "3.7.6"
  }
 },
 "nbformat": 4,
 "nbformat_minor": 4
}
