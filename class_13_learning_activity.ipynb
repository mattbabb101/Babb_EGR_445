{
 "cells": [
  {
   "cell_type": "code",
   "execution_count": 1,
   "metadata": {},
   "outputs": [],
   "source": [
    "# %matplotlib inline\n",
    "import matplotlib.pyplot as plt\n",
    "import numpy as np\n",
    "from numpy import sin, cos, tan, pi\n",
    "import robotics\n",
    "from robotics import Rx, Ry, Rz, sind, cosd, DH\n",
    "rtd = 180/pi\n",
    "dtr = pi/180"
   ]
  },
  {
   "cell_type": "markdown",
   "metadata": {},
   "source": [
    "## White Fanuc YouTube Video\n",
    "\n",
    "- [https://youtu.be/fDF1zp45jmE](https://youtu.be/fDF1zp45jmE)\n"
   ]
  },
  {
   "cell_type": "markdown",
   "metadata": {},
   "source": [
    "## Yellow Fanuc YouTube Video \n",
    "\n",
    "- [https://youtu.be/NFGGdfnUzbY](https://youtu.be/NFGGdfnUzbY)\n"
   ]
  },
  {
   "cell_type": "markdown",
   "metadata": {},
   "source": [
    "## Pictures of Both Robots\n",
    "\n",
    "[https://drive.google.com/drive/folders/1SNn3vmSXf46abdwtxX3bposkAV2LfATH?usp=sharing](https://drive.google.com/drive/folders/1SNn3vmSXf46abdwtxX3bposkAV2LfATH?usp=sharing)"
   ]
  },
  {
   "cell_type": "markdown",
   "metadata": {},
   "source": [
    "## Problem 1\n",
    "\n",
    "Review your DH analysis for the white Fanuc robot:\n",
    "\n",
    "- redraw your schematic\n",
    "- review your DH table"
   ]
  },
  {
   "cell_type": "code",
   "execution_count": null,
   "metadata": {},
   "outputs": [],
   "source": []
  },
  {
   "cell_type": "markdown",
   "metadata": {},
   "source": [
    "## Problem 2\n",
    "\n",
    "- draw a schematic for the yellow Fanuc\n",
    "    - label any parameters that you need\n",
    "    - redraw with all $\\theta_i = 0^\\circ$\n",
    "- fill out a DH table"
   ]
  },
  {
   "cell_type": "code",
   "execution_count": null,
   "metadata": {},
   "outputs": [],
   "source": []
  }
 ],
 "metadata": {
  "kernelspec": {
   "display_name": "Python 3",
   "language": "python",
   "name": "python3"
  },
  "language_info": {
   "codemirror_mode": {
    "name": "ipython",
    "version": 3
   },
   "file_extension": ".py",
   "mimetype": "text/x-python",
   "name": "python",
   "nbconvert_exporter": "python",
   "pygments_lexer": "ipython3",
   "version": "3.7.6"
  }
 },
 "nbformat": 4,
 "nbformat_minor": 4
}
