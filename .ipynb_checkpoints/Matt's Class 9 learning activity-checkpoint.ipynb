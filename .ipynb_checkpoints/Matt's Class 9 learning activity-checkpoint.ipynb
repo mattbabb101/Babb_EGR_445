{
 "cells": [
  {
   "cell_type": "markdown",
   "metadata": {},
   "source": [
    "## Problem 1"
   ]
  },
  {
   "cell_type": "markdown",
   "metadata": {},
   "source": [
    "Frames 1 and 2 are originally aligned and have the same origin (i.e. they are completely coincident).  Frame 2 is rotated by 90$^\\circ$ about $\\hat{X}_2$ and then translated 10 cm along $\\hat{X}_2$.  Frame 2 is then rotated about the new $\\hat{Z}_2$ by 30$^\\circ$ and translated by 5 cm along $\\hat{Z}_2$.  \n",
    "\n",
    "### Problem 1 A\n",
    "\n",
    "- Find $^1_2\\mathbf{T}$ using `robotics.HTx`, `robotics.HTz`, and `np.dot`\n",
    "    - compare this HT matrix to using `robotics.DH`\n",
    "- sketch frames 1 and 2 with respect to one another\n",
    "\n",
    "### Problem 1B\n",
    "\n",
    "- Repeat problem 1 A, but reverse the order of the rotations and translations:\n",
    "    - translate by 5 cm along $\\hat{Z}$ and rotate by 30$^\\circ$ about $\\hat{Z}$ first and then translate by 10 cm along the new $\\hat{X}_2$ and rotate by 90$^\\circ$ about the new $\\hat{X}_2$"
   ]
  },
  {
   "cell_type": "code",
   "execution_count": null,
   "metadata": {},
   "outputs": [],
   "source": []
  },
  {
   "cell_type": "markdown",
   "metadata": {},
   "source": [
    "## Problem 2"
   ]
  },
  {
   "cell_type": "markdown",
   "metadata": {},
   "source": [
    "- Attach the frames necessary to model the robot below using the DH convention\n",
    "- fill out a table of the DH parameters\n",
    "- find $^0P_{tip}$ given the values:\n",
    "    - $L_1$ = 9 cm\n",
    "    - $L_2$ = 8 cm\n",
    "    - $L_3$ = 7 cm\n",
    "    - $\\theta_1$ = 20$^\\circ$\n",
    "    - $\\theta_2$ = -40$^\\circ$\n",
    "    - $\\theta_3$ = 15$^\\circ$\n",
    "    \n",
    "<img src=\"https://drive.google.com/uc?id=1-1N0v4UK-UNam_2DuNOHPTA3bQr-vICZ\" width=400px>"
   ]
  },
  {
   "cell_type": "code",
   "execution_count": null,
   "metadata": {},
   "outputs": [],
   "source": []
  },
  {
   "cell_type": "markdown",
   "metadata": {},
   "source": [
    "## Problem 3"
   ]
  },
  {
   "cell_type": "markdown",
   "metadata": {},
   "source": [
    "- Attach the frames necessary to model the robot below using the DH convention\n",
    "- fill out a table of the DH parameters\n",
    "- find $^0P_{tip}$ given the values:\n",
    "    - $A$ = 10 cm\n",
    "    - $B$ = 8 cm\n",
    "    - $C$ = 6 cm\n",
    "    - $\\theta_1$ = 30$^\\circ$\n",
    "    - $\\theta_2$ = 20$^\\circ$\n",
    "    - $\\theta_3$ = -15$^\\circ$\n",
    "    \n",
    "<img src=\"https://drive.google.com/uc?id=1550T-dKKBKwO93b0nDI0Mnqeibfr94pp\" width=450px>"
   ]
  },
  {
   "cell_type": "code",
   "execution_count": null,
   "metadata": {},
   "outputs": [],
   "source": []
  },
  {
   "cell_type": "markdown",
   "metadata": {},
   "source": [
    "## Problem 4 (Example 3.4)"
   ]
  },
  {
   "cell_type": "markdown",
   "metadata": {},
   "source": [
    "<!-- Slide 2 -->\n",
    "\n",
    "- draw the schematic\n",
    "- fill in the DH table\n",
    "- note the actuated parameters\n",
    "\n",
    "<img src=\"https://drive.google.com/uc?id=1K1a58_P9mfsiBbFM1uhLQIhN57CHxsRq\" width=400px>\n"
   ]
  },
  {
   "cell_type": "code",
   "execution_count": null,
   "metadata": {},
   "outputs": [],
   "source": []
  },
  {
   "cell_type": "markdown",
   "metadata": {},
   "source": [
    "## Problem 5"
   ]
  },
  {
   "cell_type": "markdown",
   "metadata": {},
   "source": [
    "- draw the schematic and fill in the DH table\n",
    "\n",
    "<img src=\"https://drive.google.com/uc?id=1rV1zxDViyq2VkTdFD9G0ONDQII7SCYFw\" width=400px>\n"
   ]
  },
  {
   "cell_type": "code",
   "execution_count": null,
   "metadata": {},
   "outputs": [],
   "source": []
  }
 ],
 "metadata": {
  "kernelspec": {
   "display_name": "Python 3",
   "language": "python",
   "name": "python3"
  },
  "language_info": {
   "codemirror_mode": {
    "name": "ipython",
    "version": 3
   },
   "file_extension": ".py",
   "mimetype": "text/x-python",
   "name": "python",
   "nbconvert_exporter": "python",
   "pygments_lexer": "ipython3",
   "version": "3.7.6"
  }
 },
 "nbformat": 4,
 "nbformat_minor": 4
}
