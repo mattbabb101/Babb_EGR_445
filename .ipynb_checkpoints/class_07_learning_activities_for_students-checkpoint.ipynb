{
 "cells": [
  {
   "cell_type": "code",
   "execution_count": 1,
   "metadata": {},
   "outputs": [],
   "source": [
    "%matplotlib inline\n",
    "import matplotlib.pyplot as plt\n",
    "import numpy as np\n",
    "from numpy import sin, cos, tan, pi\n",
    "import robotics\n",
    "from robotics import Rx, Ry, Rz, sind, cosd, DH\n",
    "rtd = 180/pi\n",
    "dtr = pi/180"
   ]
  },
  {
   "cell_type": "markdown",
   "metadata": {},
   "source": [
    "## Problem 1\n",
    "\n",
    "<img src=\"https://drive.google.com/uc?id=19BbGtMN8x1tKJbMF2xsdreq5Rqme3ey9\" width=400px>\n",
    "\n",
    "- find $^A_B\\mathbf{T}$ and $^B_A\\mathbf{T}$\n",
    "\n",
    "\n",
    "- find $^AP$ and $^BQ$"
   ]
  },
  {
   "cell_type": "code",
   "execution_count": null,
   "metadata": {},
   "outputs": [],
   "source": [
    "R = robotics.Rz()"
   ]
  },
  {
   "cell_type": "markdown",
   "metadata": {},
   "source": [
    "**Answers:**\n",
    "\n",
    "$$^AP = \\; \\begin{bmatrix} 4.8 \\\\ 6.4 \\\\ 0 \\\\ 1 \\end{bmatrix}$$"
   ]
  },
  {
   "cell_type": "markdown",
   "metadata": {},
   "source": [
    "$$^BQ = \\; \\begin{bmatrix} 0.6 \\\\ -0.8 \\\\ 0 \\\\ 1 \\end{bmatrix}$$"
   ]
  },
  {
   "cell_type": "markdown",
   "metadata": {},
   "source": [
    "## Problem 2\n",
    "\n",
    "$$^A_B\\mathbf{T} = \\; \\begin{bmatrix} -0.1736 & -0.9848 & 0 & -0.8682 \\\\ 0.9848 & -0.1736 & 0 & 4.924 \\\\ 0 & 0 & 1 & 0 \\\\ 0 & 0 & 0 & 1 \\end{bmatrix}$$\n",
    "\n",
    "- sketch the frames $A$ and $B$ in relation to one another"
   ]
  },
  {
   "cell_type": "markdown",
   "metadata": {},
   "source": [
    "## Problem 3\n",
    "\n",
    "If you already have \n",
    "\n",
    "$$^A_B\\mathbf{T} = \\; \\begin{bmatrix} -0.5 & -0.866 & 0 & 3 \\\\ 0 & 0 & 1 & 1 \\\\ -0.866 & 0.5 & 0 & 0 \\\\ 0 & 0 & 0 & 1 \\end{bmatrix}$$\n",
    "\n",
    "- use Python to find $^B_A\\mathbf{R}$ and $^BP_{AORG}$"
   ]
  },
  {
   "cell_type": "code",
   "execution_count": 4,
   "metadata": {},
   "outputs": [],
   "source": [
    "T_AB3 = np.array([[-0.5      , -0.8660254,  0.       ,  3.       ],\n",
    "                 [ 0.       ,  0.       ,  1.       ,  1.       ],\n",
    "                 [-0.8660254,  0.5      ,  0.       ,  0.       ],\n",
    "                 [ 0.       ,  0.       ,  0.       ,  1.       ]])"
   ]
  },
  {
   "cell_type": "code",
   "execution_count": 5,
   "metadata": {},
   "outputs": [
    {
     "data": {
      "text/plain": [
       "array([[-0.5      , -0.8660254,  0.       ,  3.       ],\n",
       "       [ 0.       ,  0.       ,  1.       ,  1.       ],\n",
       "       [-0.8660254,  0.5      ,  0.       ,  0.       ],\n",
       "       [ 0.       ,  0.       ,  0.       ,  1.       ]])"
      ]
     },
     "execution_count": 5,
     "metadata": {},
     "output_type": "execute_result"
    }
   ],
   "source": [
    "T_AB3"
   ]
  },
  {
   "cell_type": "markdown",
   "metadata": {},
   "source": [
    "## Problem 4\n",
    "\n",
    "- Based on what you learned in Problem 3, write a Python function that takes $^A_B\\mathbf{T}$ as its input and returns $^B_A\\mathbf{T}$ as its output\n",
    "- write some tests to verify your function is correct"
   ]
  },
  {
   "cell_type": "markdown",
   "metadata": {},
   "source": [
    "## Problem 5\n",
    "\n",
    "<img src=\"https://drive.google.com/uc?id=19xH9I-vpIYiuvmFIPba6kt3e3DjRnkg6\" width=400px>\n",
    "\n",
    "- Find $P$, $Q$, and $R$ in both frames using HT matrices"
   ]
  },
  {
   "cell_type": "markdown",
   "metadata": {},
   "source": [
    "## Problem 6\n",
    "\n",
    "<img src=\"https://drive.google.com/uc?id=1AweBUM8JRP5173hlZeym2l6pvxPKjSch\" width=400px>\n",
    "\n",
    "- Find $P$ and $Q$ in both frames using HT matrices"
   ]
  },
  {
   "cell_type": "code",
   "execution_count": null,
   "metadata": {},
   "outputs": [],
   "source": []
  }
 ],
 "metadata": {
  "kernelspec": {
   "display_name": "Python 3",
   "language": "python",
   "name": "python3"
  },
  "language_info": {
   "codemirror_mode": {
    "name": "ipython",
    "version": 3
   },
   "file_extension": ".py",
   "mimetype": "text/x-python",
   "name": "python",
   "nbconvert_exporter": "python",
   "pygments_lexer": "ipython3",
   "version": "3.7.6"
  }
 },
 "nbformat": 4,
 "nbformat_minor": 4
}
