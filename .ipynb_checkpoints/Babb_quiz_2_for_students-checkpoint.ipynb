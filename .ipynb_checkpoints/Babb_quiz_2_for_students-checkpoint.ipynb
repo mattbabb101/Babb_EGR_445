{
 "cells": [
  {
   "cell_type": "code",
   "execution_count": 4,
   "metadata": {},
   "outputs": [],
   "source": [
    "%matplotlib inline\n",
    "import matplotlib.pyplot as plt\n",
    "import numpy as np\n",
    "from numpy import sin, cos, tan, pi\n",
    "import robotics\n",
    "from robotics import Rx, Ry, Rz, sind, cosd, DH\n",
    "rtd = 180/pi\n",
    "dtr = pi/180"
   ]
  },
  {
   "cell_type": "markdown",
   "metadata": {},
   "source": [
    "<img src=\"https://drive.google.com/uc?id=1ITM6pDByVRCUQb2ujTXtYlfoTR_KSVd-\" width=450px>"
   ]
  },
  {
   "cell_type": "markdown",
   "metadata": {},
   "source": [
    "Find $^BN$, $^BP$ and $^AQ$ for the sketch shown above."
   ]
  },
  {
   "cell_type": "code",
   "execution_count": 41,
   "metadata": {},
   "outputs": [],
   "source": [
    "Na = np.array ([10,0,0,1])\n",
    "Pa = np.array ([0,0,5,1])\n",
    "Qb = np.array ([4,0,0,1])\n",
    "\n",
    "Z = np.array([0,0,0,1])\n",
    "\n",
    "Pborga= np.array([10,12,0])\n",
    "th = 39.8056\n",
    "Rab =  np.array([[0,-sind(th),cosd(th)],\n",
    "                 [0,-cosd(th),-sind(th)],\n",
    "                 [1,0,0]])\n",
    "\n",
    "Rba = np.transpose(Rab)"
   ]
  },
  {
   "cell_type": "code",
   "execution_count": 42,
   "metadata": {},
   "outputs": [
    {
     "data": {
      "text/plain": [
       "array([[ 0.        , -0.64018479,  0.76822096, 10.        ],\n",
       "       [ 0.        , -0.76822096, -0.64018479, 12.        ],\n",
       "       [ 1.        ,  0.        ,  0.        ,  0.        ],\n",
       "       [ 0.        ,  0.        ,  0.        ,  1.        ]])"
      ]
     },
     "execution_count": 42,
     "metadata": {},
     "output_type": "execute_result"
    }
   ],
   "source": [
    "Tab_temp = np.column_stack([Rab,Pborga])\n",
    "Tab = np.row_stack((Tab_temp,Z))\n",
    "Tba = robotics.HTinv(Tab)\n",
    "Tab"
   ]
  },
  {
   "cell_type": "code",
   "execution_count": 43,
   "metadata": {},
   "outputs": [
    {
     "data": {
      "text/plain": [
       "(array([0.        , 9.21865148, 7.68221745, 1.        ]),\n",
       " array([5.00000000e+00, 1.56204994e+01, 7.88109101e-06, 1.00000000e+00]),\n",
       " array([10., 12.,  4.,  1.]))"
      ]
     },
     "execution_count": 43,
     "metadata": {},
     "output_type": "execute_result"
    }
   ],
   "source": [
    "Nb = robotics.prettymat(np.dot(Tba,Na))\n",
    "Pb = robotics.prettymat(np.dot(Tba,Pa))\n",
    "Qa = robotics.prettymat(np.dot(Tab,Qb))\n",
    "Nb, Pb, Qa"
   ]
  },
  {
   "cell_type": "code",
   "execution_count": 39,
   "metadata": {},
   "outputs": [],
   "source": [
    "robotics.prettymat??"
   ]
  }
 ],
 "metadata": {
  "kernelspec": {
   "display_name": "Python 3",
   "language": "python",
   "name": "python3"
  },
  "language_info": {
   "codemirror_mode": {
    "name": "ipython",
    "version": 3
   },
   "file_extension": ".py",
   "mimetype": "text/x-python",
   "name": "python",
   "nbconvert_exporter": "python",
   "pygments_lexer": "ipython3",
   "version": "3.7.6"
  }
 },
 "nbformat": 4,
 "nbformat_minor": 4
}
