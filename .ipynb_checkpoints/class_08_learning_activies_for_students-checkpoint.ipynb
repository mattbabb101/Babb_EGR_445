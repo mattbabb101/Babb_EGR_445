{
 "cells": [
  {
   "cell_type": "code",
   "execution_count": 1,
   "metadata": {},
   "outputs": [],
   "source": [
    "%matplotlib inline\n",
    "import matplotlib.pyplot as plt\n",
    "import numpy as np\n",
    "from numpy import sin, cos, tan, pi\n",
    "import robotics\n",
    "from robotics import Rx, Ry, Rz, sind, cosd, DH\n",
    "rtd = 180/pi\n",
    "dtr = pi/180"
   ]
  },
  {
   "cell_type": "markdown",
   "metadata": {},
   "source": [
    "## Problem 1"
   ]
  },
  {
   "cell_type": "markdown",
   "metadata": {},
   "source": [
    "<img src=\"https://drive.google.com/uc?id=13xZoRttTU6p11YgV77pmNBWbe6k3LAPP\" width=450px>"
   ]
  },
  {
   "cell_type": "markdown",
   "metadata": {},
   "source": [
    "Find $^BP$, $^BQ$, $^BR$, $^AS$ using HT matrices."
   ]
  },
  {
   "cell_type": "markdown",
   "metadata": {},
   "source": [
    "### Answers:\n",
    "\n",
    "$$^AS = \\; \\begin{bmatrix} 11.82 \\\\ 8.974 \\\\ 0 \\\\ 1 \\end{bmatrix}"
   ]
  },
  {
   "cell_type": "markdown",
   "metadata": {},
   "source": [
    "## Problem 2\n",
    "\n"
   ]
  },
  {
   "cell_type": "markdown",
   "metadata": {},
   "source": [
    "<img src=\"https://drive.google.com/uc?id=1EmWSG3rLUpdqbhNxZnu5xjAWzYFRosnB\" width=400px>"
   ]
  },
  {
   "cell_type": "markdown",
   "metadata": {},
   "source": [
    "If $d$ = 10 in, $L$ = 8in, and $\\theta=25^\\circ$, use HT matrices to find $^0P$."
   ]
  },
  {
   "cell_type": "markdown",
   "metadata": {},
   "source": [
    "## Problem 3\n",
    "\n",
    "Solve the silverbox robot problem using HT matrices:"
   ]
  },
  {
   "cell_type": "markdown",
   "metadata": {},
   "source": [
    "<img src=\"https://drive.google.com/uc?id=1cstxZePo6s3XfSzMkWID4E_mdSExTQkm\" width=450px>"
   ]
  },
  {
   "cell_type": "markdown",
   "metadata": {},
   "source": [
    "<img src=\"https://drive.google.com/uc?id=1AA2dilCYYbOX0XqNmQN_DKpIdfnDsOth\" width=450px>"
   ]
  },
  {
   "cell_type": "markdown",
   "metadata": {},
   "source": [
    "<img src=\"https://drive.google.com/uc?id=1tk5mwGjYVSzhmAusbePHvIJfpxBLFRb3\" width=400px>"
   ]
  },
  {
   "cell_type": "markdown",
   "metadata": {},
   "source": [
    "Given the parameters below, find the tip position in the global coordinate system using HT matrices.\n",
    "\n",
    "**Note:** There is a 90$^\\circ$ rotation about $\\hat{X}_1$ to get from $\\hat{Z}_1$ to $\\hat{Z}_2$."
   ]
  },
  {
   "cell_type": "code",
   "execution_count": 2,
   "metadata": {},
   "outputs": [],
   "source": [
    "L1 = 6\n",
    "L2 = 6.75\n",
    "th1 = 20\n",
    "th2 = 30\n",
    "th3 = 40"
   ]
  },
  {
   "cell_type": "markdown",
   "metadata": {},
   "source": [
    "#### Answer to Problem 3:\n",
    "\n",
    "$$^0P = \\; \\begin{bmatrix} 7.052 \\\\ 2.567 \\\\ 9.343 \\end{bmatrix}$$"
   ]
  },
  {
   "cell_type": "markdown",
   "metadata": {},
   "source": [
    "## Problem 4"
   ]
  },
  {
   "cell_type": "markdown",
   "metadata": {},
   "source": [
    "Given \n",
    "\n",
    "$$^A_B\\mathbf{T} = \\; \\begin{bmatrix} 0 & -1 & 0 & 5 \\\\ 0 & 0 & -1 & 0 \\\\ 1 & 0 & 0 & 0 \\\\ 0 & 0 & 0 & 1 \\end{bmatrix}$$\n",
    "\n",
    "Find $^B_A\\mathbf{T}$ without using Python or a calculator.  Check your answer using `robotics.HTinv`."
   ]
  },
  {
   "cell_type": "markdown",
   "metadata": {},
   "source": [
    "## Problem 5\n",
    "\n",
    "- look at the source for `robotics.dot_list`\n",
    "    - it uses the `pop` list method to start with the first matrix in the list\n",
    "    - it then multiplies the matrices from left to right  to find the overall product\n",
    "        - this is computationally inefficient\n",
    "- write a new function that multiplies from right to left so that if the last item in the list is a column vector the new function will be faster\n",
    "- verify that your new function gives the correct answer\n",
    "- use the `time.time` function from the `time` module to compare the computational time of your new function to `robotics.dot_list`"
   ]
  },
  {
   "cell_type": "code",
   "execution_count": 3,
   "metadata": {},
   "outputs": [],
   "source": [
    "robotics.dot_list??"
   ]
  },
  {
   "cell_type": "code",
   "execution_count": null,
   "metadata": {},
   "outputs": [],
   "source": []
  },
  {
   "cell_type": "code",
   "execution_count": null,
   "metadata": {},
   "outputs": [],
   "source": []
  }
 ],
 "metadata": {
  "kernelspec": {
   "display_name": "Python 3",
   "language": "python",
   "name": "python3"
  },
  "language_info": {
   "codemirror_mode": {
    "name": "ipython",
    "version": 3
   },
   "file_extension": ".py",
   "mimetype": "text/x-python",
   "name": "python",
   "nbconvert_exporter": "python",
   "pygments_lexer": "ipython3",
   "version": "3.7.6"
  }
 },
 "nbformat": 4,
 "nbformat_minor": 4
}
