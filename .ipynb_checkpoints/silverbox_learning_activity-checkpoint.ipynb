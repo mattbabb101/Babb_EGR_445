{
 "cells": [
  {
   "cell_type": "markdown",
   "metadata": {},
   "source": [
    "# Silverbox/Plexiglas Kinematics Example"
   ]
  },
  {
   "cell_type": "markdown",
   "metadata": {},
   "source": [
    "### Typical Imports:"
   ]
  },
  {
   "cell_type": "code",
   "execution_count": 1,
   "metadata": {},
   "outputs": [],
   "source": [
    "%matplotlib inline\n",
    "import matplotlib.pyplot as plt\n",
    "import numpy as np\n",
    "from numpy import pi, sin, cos, tan"
   ]
  },
  {
   "cell_type": "markdown",
   "metadata": {},
   "source": [
    "## Robot description google slides\n",
    "\n",
    "[https://drive.google.com/open?id=1gbCtg96recB9Lto4vKeFCh9tMluLAyTro8VsQ5SflDw](https://drive.google.com/open?id=1gbCtg96recB9Lto4vKeFCh9tMluLAyTro8VsQ5SflDw)"
   ]
  },
  {
   "cell_type": "markdown",
   "metadata": {},
   "source": [
    "## Robot Picture\n",
    "\n",
    "<img src=\"https://drive.google.com/uc?id=1PnHK7NqdtT9pB5hU8mxmOABAkqGprptx\" width=450px>"
   ]
  },
  {
   "cell_type": "markdown",
   "metadata": {},
   "source": [
    "## Top view\n",
    "\n",
    "<img src=\"https://drive.google.com/uc?id=1cstxZePo6s3XfSzMkWID4E_mdSExTQkm\" width=450px>"
   ]
  },
  {
   "cell_type": "markdown",
   "metadata": {},
   "source": [
    "## Side View\n",
    "\n",
    "<img src=\"https://drive.google.com/uc?id=1AA2dilCYYbOX0XqNmQN_DKpIdfnDsOth\" width=450px>"
   ]
  },
  {
   "cell_type": "markdown",
   "metadata": {},
   "source": [
    "## Schematic\n",
    "\n",
    "<img src=\"https://drive.google.com/uc?id=1tk5mwGjYVSzhmAusbePHvIJfpxBLFRb3\" width=400px>"
   ]
  },
  {
   "cell_type": "markdown",
   "metadata": {},
   "source": [
    "## Problem Statement\n",
    "\n",
    "Given the parameters below, find the tip position in the global coordinate system.\n",
    "\n",
    "Once you have done this using trig, verify your answer using rotation matrices and Dr. Krauss' `robotics.py` Python module."
   ]
  },
  {
   "cell_type": "code",
   "execution_count": 3,
   "metadata": {},
   "outputs": [],
   "source": [
    "L1 = 6\n",
    "L2 = 6.75\n",
    "th1 = 20\n",
    "th2 = 30\n",
    "th3 = 40"
   ]
  },
  {
   "cell_type": "code",
   "execution_count": 20,
   "metadata": {},
   "outputs": [],
   "source": [
    "th1r=th1*(pi/180)\n",
    "th2r=th2*(pi/180)\n",
    "th3r=th3*(pi/180)\n"
   ]
  },
  {
   "cell_type": "code",
   "execution_count": 5,
   "metadata": {},
   "outputs": [],
   "source": [
    "import robotics as rob"
   ]
  },
  {
   "cell_type": "code",
   "execution_count": 11,
   "metadata": {},
   "outputs": [
    {
     "data": {
      "text/plain": [
       "array([6.75, 0.  , 0.  ])"
      ]
     },
     "execution_count": 11,
     "metadata": {},
     "output_type": "execute_result"
    }
   ],
   "source": [
    "P3=np.array([L2,0,0])\n",
    "P3"
   ]
  },
  {
   "cell_type": "code",
   "execution_count": 21,
   "metadata": {},
   "outputs": [
    {
     "data": {
      "text/plain": [
       "array([11.17079999,  4.33881637,  0.        ])"
      ]
     },
     "execution_count": 21,
     "metadata": {},
     "output_type": "execute_result"
    }
   ],
   "source": [
    "P2=np.array([L1+L2*cos(th3r),L2*sin(th3r),0])\n",
    "P2"
   ]
  },
  {
   "cell_type": "code",
   "execution_count": 22,
   "metadata": {},
   "outputs": [
    {
     "data": {
      "text/plain": [
       "[7.504788390154896, 0, 9.34292519030488]"
      ]
     },
     "execution_count": 22,
     "metadata": {},
     "output_type": "execute_result"
    }
   ],
   "source": [
    "P1x=P2[0]*np.cos(th2r)-P2[1]*np.sin(th2r)\n",
    "P1y=P2[0]*np.sin(th2r)+P2[1]*np.cos(th2r)\n",
    "P1=([P1x,0,P1y])\n",
    "P1"
   ]
  },
  {
   "cell_type": "code",
   "execution_count": null,
   "metadata": {},
   "outputs": [],
   "source": [
    "P0x\n",
    "P0y\n",
    "P0z\n",
    "P0=([P0x,P0y,P0z])\n",
    "P0"
   ]
  }
 ],
 "metadata": {
  "kernelspec": {
   "display_name": "Python 3",
   "language": "python",
   "name": "python3"
  },
  "language_info": {
   "codemirror_mode": {
    "name": "ipython",
    "version": 3
   },
   "file_extension": ".py",
   "mimetype": "text/x-python",
   "name": "python",
   "nbconvert_exporter": "python",
   "pygments_lexer": "ipython3",
   "version": "3.7.6"
  }
 },
 "nbformat": 4,
 "nbformat_minor": 2
}
