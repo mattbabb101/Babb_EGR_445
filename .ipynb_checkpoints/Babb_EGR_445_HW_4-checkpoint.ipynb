{
 "cells": [
  {
   "cell_type": "markdown",
   "metadata": {},
   "source": [
    "# HW 4"
   ]
  },
  {
   "cell_type": "code",
   "execution_count": 17,
   "metadata": {},
   "outputs": [],
   "source": [
    "%matplotlib inline\n",
    "import matplotlib.pyplot as plt\n",
    "import numpy as np\n",
    "from numpy import sin, cos, tan, pi\n",
    "import robotics\n",
    "from robotics import Rx, Ry, Rz, sind, cosd, DH\n",
    "rtd = 180/pi\n",
    "dtr = pi/180"
   ]
  },
  {
   "cell_type": "markdown",
   "metadata": {},
   "source": [
    "## Problem 1"
   ]
  },
  {
   "cell_type": "markdown",
   "metadata": {},
   "source": [
    "**Note:** This is a repeat of a problem from HW 3 to try and make the difference between the two cases clearer.\n",
    "\n",
    "Frames $A$ and $B$ are initiallly aligned.  Frame $B$ is first rotated by  90$^\\circ$ around $\\hat{Z}$, and then rotated a second time by  45$^\\circ$ around the new $\\hat{X}_B$ axis.\n",
    "\n",
    "**1.1**\n",
    "\n",
    "- Find $^A_B\\mathbf{R}$ and sketch frames $A$ and $B$ with respect to\n",
    "  one another\n",
    "  \n",
    "**1.2**\n",
    "\n",
    "- Repeat 1.1 but reverse the order of rotations: first rotate\n",
    "  45$^\\circ$ about $\\hat{X}$ and then rotate 90$^\\circ$ about\n",
    "  $\\hat{Z}_B$"
   ]
  },
  {
   "cell_type": "markdown",
   "metadata": {},
   "source": [
    "### 1.1"
   ]
  },
  {
   "cell_type": "code",
   "execution_count": 18,
   "metadata": {},
   "outputs": [],
   "source": [
    "thz = 90\n",
    "thx = 45"
   ]
  },
  {
   "cell_type": "code",
   "execution_count": 24,
   "metadata": {
    "scrolled": true
   },
   "outputs": [
    {
     "data": {
      "text/plain": [
       "array([[ 0.        , -0.70710678,  0.70710678],\n",
       "       [ 1.        ,  0.        ,  0.        ],\n",
       "       [ 0.        ,  0.70710678,  0.70710678]])"
      ]
     },
     "execution_count": 24,
     "metadata": {},
     "output_type": "execute_result"
    }
   ],
   "source": [
    "Rz = robotics.Rz(thz)\n",
    "Rx = robotics.Rx(thx)\n",
    "R_ab = robotics.prettymat(np.dot(Rz,Rx))\n",
    "R_ab"
   ]
  },
  {
   "cell_type": "markdown",
   "metadata": {},
   "source": [
    "### 1.2"
   ]
  },
  {
   "cell_type": "code",
   "execution_count": 25,
   "metadata": {},
   "outputs": [
    {
     "data": {
      "text/plain": [
       "array([[ 0.        , -1.        ,  0.        ],\n",
       "       [ 0.70710678,  0.        , -0.70710678],\n",
       "       [ 0.70710678,  0.        ,  0.70710678]])"
      ]
     },
     "execution_count": 25,
     "metadata": {},
     "output_type": "execute_result"
    }
   ],
   "source": [
    "Rz = robotics.Rz(thz1)\n",
    "Rx = robotics.Rx(thx1)\n",
    "R_ab = robotics.prettymat(np.dot(Rx,Rz))\n",
    "R_ab"
   ]
  },
  {
   "cell_type": "markdown",
   "metadata": {},
   "source": [
    "<img src=\"https://drive.google.com/uc?id=1on4UR70ddaLuPY16tu5O2bszmyX2L-ig\" width=600px>\n"
   ]
  },
  {
   "cell_type": "markdown",
   "metadata": {},
   "source": [
    "## Problem 2"
   ]
  },
  {
   "cell_type": "markdown",
   "metadata": {},
   "source": [
    "<img src=\"https://drive.google.com/uc?id=1GbbJ9WfosJAUd6KKH1I6vuodtbuMKLMv\" width=450px>"
   ]
  },
  {
   "cell_type": "markdown",
   "metadata": {},
   "source": [
    "The image above shows a rectangular prism where the top and bottom are isosceles right triangles (45$^\\circ$/45$^\\circ$/90$^\\circ$).\n",
    "\n",
    "- Find $^A_B\\mathbf{T}$, $^B_C\\mathbf{T}$, and $^C_A\\mathbf{T}$ graphically, using dot products\n",
    "\n",
    "\n",
    "- Find $^A_C\\mathbf{T}$ using any method you choose\n",
    "\n",
    "\n",
    "- Verify that $^C_A\\mathbf{T} = \\; ^A_C\\mathbf{T}^{-1}$\n",
    "\n",
    "\n",
    "- Verify that $^A_C\\mathbf{T}^T\\ \\neq \\; ^A_C\\mathbf{T}^{-1}$"
   ]
  },
  {
   "cell_type": "markdown",
   "metadata": {},
   "source": [
    "- Find $^A_B\\mathbf{T}$, $^B_C\\mathbf{T}$, and $^C_A\\mathbf{T}$ graphically, using dot products"
   ]
  },
  {
   "cell_type": "markdown",
   "metadata": {},
   "source": [
    "<img src=\"https://drive.google.com/uc?id=1Zrs2WgXkN51knwjlvU1NZrgSPEk633oe\" width=650px>"
   ]
  },
  {
   "cell_type": "markdown",
   "metadata": {},
   "source": [
    "- Find $^A_C\\mathbf{T}$ using any method you choose"
   ]
  },
  {
   "cell_type": "code",
   "execution_count": 37,
   "metadata": {},
   "outputs": [
    {
     "data": {
      "text/plain": [
       "array([[0.        , 1.        , 0.        , 5.65685712],\n",
       "       [1.        , 0.        , 0.        , 0.        ],\n",
       "       [0.        , 0.        , 1.        , 1.        ],\n",
       "       [0.        , 0.        , 0.        , 1.        ]])"
      ]
     },
     "execution_count": 37,
     "metadata": {},
     "output_type": "execute_result"
    }
   ],
   "source": [
    "th = 45\n",
    "Tab = ([cosd(th),-sind(th),0,2.82843],[-sind(th),-cosd(th),0,2.82843],[0,0,-1,1],[0,0,0,1])\n",
    "Tbc = ([-cosd(th),sind(th),0,4],[-sind(th),-cosd(th),0,0],[0,0,-1,0],[0,0,0,1])\n",
    "Tac = robotics.prettymat(np.dot(Tab,Tbc),1)\n",
    "Tac"
   ]
  },
  {
   "cell_type": "markdown",
   "metadata": {},
   "source": [
    "- Verify that $^C_A\\mathbf{T} = \\; ^A_C\\mathbf{T}^{-1}$"
   ]
  },
  {
   "cell_type": "code",
   "execution_count": 42,
   "metadata": {},
   "outputs": [
    {
     "data": {
      "text/plain": [
       "array([[ 0.        ,  1.        ,  0.        ,  0.        ],\n",
       "       [ 1.        ,  0.        ,  0.        , -5.65685712],\n",
       "       [ 0.        ,  0.        ,  1.        , -1.        ],\n",
       "       [ 0.        ,  0.        ,  0.        ,  1.        ]])"
      ]
     },
     "execution_count": 42,
     "metadata": {},
     "output_type": "execute_result"
    }
   ],
   "source": [
    "Tca = np.linalg.inv(Tac)\n",
    "Tca"
   ]
  },
  {
   "cell_type": "markdown",
   "metadata": {},
   "source": [
    "- Verify that $^A_C\\mathbf{T}^T\\ \\neq \\; ^A_C\\mathbf{T}^{-1}$"
   ]
  },
  {
   "cell_type": "code",
   "execution_count": null,
   "metadata": {},
   "outputs": [],
   "source": [
    "Tac_t = np.transpose(Tac)\n",
    "T"
   ]
  }
 ],
 "metadata": {
  "kernelspec": {
   "display_name": "Python 3",
   "language": "python",
   "name": "python3"
  },
  "language_info": {
   "codemirror_mode": {
    "name": "ipython",
    "version": 3
   },
   "file_extension": ".py",
   "mimetype": "text/x-python",
   "name": "python",
   "nbconvert_exporter": "python",
   "pygments_lexer": "ipython3",
   "version": "3.7.6"
  }
 },
 "nbformat": 4,
 "nbformat_minor": 4
}
